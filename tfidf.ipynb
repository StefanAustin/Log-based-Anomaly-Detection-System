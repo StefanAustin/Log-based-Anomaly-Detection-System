{
  "nbformat": 4,
  "nbformat_minor": 0,
  "metadata": {
    "colab": {
      "name": "tfidf.ipynb",
      "provenance": [],
      "collapsed_sections": []
    },
    "kernelspec": {
      "name": "python3",
      "display_name": "Python 3"
    }
  },
  "cells": [
    {
      "cell_type": "code",
      "metadata": {
        "id": "2fmHKA6I4DYV",
        "colab_type": "code",
        "colab": {}
      },
      "source": [
        "import pandas as pd\n",
        "import numpy as np\n",
        "from collections import Counter\n",
        "import nltk\n",
        "from nltk.stem.wordnet import WordNetLemmatizer\n",
        "from nltk.corpus import stopwords\n"
      ],
      "execution_count": 36,
      "outputs": []
    },
    {
      "cell_type": "code",
      "metadata": {
        "id": "mo-v8_pXgLFs",
        "colab_type": "code",
        "colab": {}
      },
      "source": [
        "# pretrained word vector `crawl-300d-2M.vec' can be downloaded here\n",
        "# https://dl.fbaipublicfiles.com/fasttext/vectors-english/crawl-300d-2M.vec.zip"
      ],
      "execution_count": 2,
      "outputs": []
    },
    {
      "cell_type": "code",
      "metadata": {
        "id": "TTx6_k1wAmqV",
        "colab_type": "code",
        "colab": {
          "base_uri": "https://localhost:8080/",
          "height": 51
        },
        "outputId": "51796f2f-50fe-456c-b1ea-c814cc9c6cf6"
      },
      "source": [
        "!cd '/content/drive/My Drive/Colab Notebooks/DLP_project' && cp 'crawl-300d-2M.vec.zip' *.csv /content/\n",
        "!unzip crawl-300d-2M.vec.zip"
      ],
      "execution_count": 3,
      "outputs": [
        {
          "output_type": "stream",
          "text": [
            "Archive:  crawl-300d-2M.vec.zip\n",
            "  inflating: crawl-300d-2M.vec       \n"
          ],
          "name": "stdout"
        }
      ]
    },
    {
      "cell_type": "code",
      "metadata": {
        "id": "mU0qkP0uTO6L",
        "colab_type": "code",
        "colab": {
          "base_uri": "https://localhost:8080/",
          "height": 51
        },
        "outputId": "7c7622ca-218a-4303-b22a-8f7fed687039"
      },
      "source": [
        "EMBEDDING_DIM = 300\n",
        "embedding_table = {}\n",
        "with open('crawl-300d-2M.vec') as f:\n",
        "    for i, line in enumerate(f):\n",
        "        if i == 0: # header\n",
        "            print('words, dim =', line.split())\n",
        "            continue\n",
        "        \n",
        "        word, coefs = line.split(maxsplit=1)\n",
        "        coefs = np.fromstring(coefs, 'f', sep=' ')\n",
        "        embedding_table[word] = coefs\n",
        "\n",
        "print('Found %s word vectors.' % len(embedding_table))"
      ],
      "execution_count": 4,
      "outputs": [
        {
          "output_type": "stream",
          "text": [
            "words, dim = ['1999995', '300']\n",
            "Found 1999995 word vectors.\n"
          ],
          "name": "stdout"
        }
      ]
    },
    {
      "cell_type": "code",
      "metadata": {
        "id": "jafTnfqkDzWt",
        "colab_type": "code",
        "colab": {
          "base_uri": "https://localhost:8080/",
          "height": 136
        },
        "outputId": "73151025-2c3a-4cfe-fd3f-e56eb60cf23e"
      },
      "source": [
        "nltk.download('punkt')\n",
        "nltk.download('stopwords')\n",
        "nltk.download('wordnet')"
      ],
      "execution_count": 5,
      "outputs": [
        {
          "output_type": "stream",
          "text": [
            "[nltk_data] Downloading package punkt to /root/nltk_data...\n",
            "[nltk_data]   Unzipping tokenizers/punkt.zip.\n",
            "[nltk_data] Downloading package stopwords to /root/nltk_data...\n",
            "[nltk_data]   Unzipping corpora/stopwords.zip.\n",
            "[nltk_data] Downloading package wordnet to /root/nltk_data...\n",
            "[nltk_data]   Unzipping corpora/wordnet.zip.\n"
          ],
          "name": "stdout"
        },
        {
          "output_type": "execute_result",
          "data": {
            "text/plain": [
              "True"
            ]
          },
          "metadata": {
            "tags": []
          },
          "execution_count": 5
        }
      ]
    },
    {
      "cell_type": "code",
      "metadata": {
        "id": "9E85VFFuVqIb",
        "colab_type": "code",
        "colab": {}
      },
      "source": [
        "def template2tokens(templates):\n",
        "    # templates: list of str\n",
        "    # e.g. templates = ['PacketResponder <*> for block <*> terminating', 'Received block <*> of size <*> from <*>']\n",
        "    # return: list of list of str which has been processed (tokens)\n",
        "    # e.g. [['packet', 'responder', 'block', 'terminate'], ['receive', 'block', 'size']]\n",
        "\n",
        "    list_tokens = []\n",
        "\n",
        "    for i, text in enumerate(templates):\n",
        "        for j in reversed(range(len(text))):\n",
        "            if j == 0: break\n",
        "            if not text[j].isalpha():\n",
        "                text = text[:j] + ' ' + text[j + 1:]\n",
        "                continue\n",
        "            if text[j].isupper() and text[j - 1].islower():\n",
        "                text = text[:j] + ' ' + text[j:]\n",
        "        \n",
        "        tokens = nltk.word_tokenize(text.lower())\n",
        "        tokens = [token for token in tokens if token not in stopwords.words('english')]\n",
        "        lemmatizer = WordNetLemmatizer()\n",
        "        tokens = [lemmatizer.lemmatize(token, 'v') for token in tokens]\n",
        "        list_tokens.append(tokens)\n",
        "    \n",
        "    return list_tokens"
      ],
      "execution_count": 18,
      "outputs": []
    },
    {
      "cell_type": "code",
      "metadata": {
        "id": "MfNcMWwGROUh",
        "colab_type": "code",
        "colab": {}
      },
      "source": [
        "def calculate_freq(list_tokens, mode_idf=False, counter=None):\n",
        "    # list_tokens: list of list of str\n",
        "    # e.g. [['packet', 'responder', 'block', 'terminate'], ['receive', 'block', 'size']]\n",
        "    # mode_idf: bool\n",
        "    # if `mode_idf' is set to True, count as idf\n",
        "    # counter: collections.Counter object\n",
        "    # if `counter' parameter is not assigned, generate a new one\n",
        "    # otherwise, the counter object being assigned will be update (aggregate)\n",
        "\n",
        "    if counter is None:\n",
        "        counter = Counter()\n",
        "\n",
        "    for tokens in list_tokens:\n",
        "        if mode_idf:\n",
        "            counter_tokens = Counter(set(tokens))\n",
        "            counter_tokens['__num_lines__'] = 1\n",
        "        else:\n",
        "            counter_tokens = Counter(tokens)\n",
        "        \n",
        "        counter.update(counter_tokens)\n",
        "\n",
        "    return counter"
      ],
      "execution_count": 19,
      "outputs": []
    },
    {
      "cell_type": "code",
      "metadata": {
        "id": "Z0jbBK53ClC0",
        "colab_type": "code",
        "colab": {}
      },
      "source": [
        "def template2vec(templates, embedding_table, counter_idf):\n",
        "    # templates: list of str\n",
        "    # e.g. templates = ['PacketResponder <*> for block <*> terminating', 'Received block <*> of size <*> from <*>']\n",
        "    # embedding_table: dict\n",
        "    # a dict mapping words to vectors of dimension EMBEDDING_DIM\n",
        "    # counter_idf: collections.Counter object\n",
        "    # `counter_idf' indicates the counter for calculating idf\n",
        "    # return: list of numpy array\n",
        "\n",
        "    list_vectors = []\n",
        "\n",
        "    list_tokens = template2tokens(templates)\n",
        "    for tokens in list_tokens:\n",
        "        vector_token = np.zeros(EMBEDDING_DIM)\n",
        "        \n",
        "        counter_tf = calculate_freq([tokens])\n",
        "        num_valid_token = 0\n",
        "\n",
        "        for token in tokens:\n",
        "            if token not in embedding_table: continue\n",
        "            \n",
        "            num_valid_token += 1\n",
        "\n",
        "            tf = counter_tf[token] / sum(counter_tf.values())\n",
        "            idf = np.log(counter_idf['__num_lines__'] / (1 + counter_idf.get(token, 0)))\n",
        "\n",
        "            vector = embedding_table[token] * tf * idf\n",
        "            vector_token += vector\n",
        "\n",
        "        list_vectors.append(vector_token / num_valid_token)\n",
        "\n",
        "\n",
        "    return list_vectors"
      ],
      "execution_count": 25,
      "outputs": []
    },
    {
      "cell_type": "code",
      "metadata": {
        "id": "MkqGvmpzWTPZ",
        "colab_type": "code",
        "colab": {}
      },
      "source": [
        "# -----test-----"
      ],
      "execution_count": 26,
      "outputs": []
    },
    {
      "cell_type": "code",
      "metadata": {
        "id": "pMUYINsC4djj",
        "colab_type": "code",
        "colab": {}
      },
      "source": [
        "# example inputs (input 2 log lines)\n",
        "inputs = ['PacketResponder <*> for block <*> terminating', 'Received block <*> of size <*> from <*>']"
      ],
      "execution_count": 27,
      "outputs": []
    },
    {
      "cell_type": "code",
      "metadata": {
        "id": "YfgW-i9G4d0a",
        "colab_type": "code",
        "colab": {
          "base_uri": "https://localhost:8080/",
          "height": 136
        },
        "outputId": "61a3a31c-3ccf-448b-a1c8-885b8a8f46c2"
      },
      "source": [
        "# idf of `new_list_tokens' can be aggregate by calling `calculate_freq(new_list_tokens, mode_idf=True, counter=counter_idf)' if needed\n",
        "counter_idf = calculate_freq(template2tokens(inputs), mode_idf=True)\n",
        "counter_idf"
      ],
      "execution_count": 28,
      "outputs": [
        {
          "output_type": "execute_result",
          "data": {
            "text/plain": [
              "Counter({'__num_lines__': 2,\n",
              "         'block': 2,\n",
              "         'packet': 1,\n",
              "         'receive': 1,\n",
              "         'responder': 1,\n",
              "         'size': 1,\n",
              "         'terminate': 1})"
            ]
          },
          "metadata": {
            "tags": []
          },
          "execution_count": 28
        }
      ]
    },
    {
      "cell_type": "code",
      "metadata": {
        "id": "kLJkGXLmcl-b",
        "colab_type": "code",
        "colab": {
          "base_uri": "https://localhost:8080/",
          "height": 119
        },
        "outputId": "9895f015-1cdd-4a53-ef56-67082bf366b2"
      },
      "source": [
        "# idf before log\n",
        "for token in counter_idf:\n",
        "    if token == '__num_lines__': continue\n",
        "    # idf = np.log(counter_idf['__num_lines__'] / (1 + counter_idf.get(token, 0)))\n",
        "    idf = counter_idf['__num_lines__'] / (1 + counter_idf.get(token, 0))\n",
        "    print(token, idf)"
      ],
      "execution_count": 34,
      "outputs": [
        {
          "output_type": "stream",
          "text": [
            "responder 1.0\n",
            "terminate 1.0\n",
            "block 0.6666666666666666\n",
            "packet 1.0\n",
            "size 1.0\n",
            "receive 1.0\n"
          ],
          "name": "stdout"
        }
      ]
    },
    {
      "cell_type": "code",
      "metadata": {
        "id": "lMPNpd8LYEeE",
        "colab_type": "code",
        "colab": {
          "base_uri": "https://localhost:8080/",
          "height": 34
        },
        "outputId": "c1003702-c391-45e7-c88d-44c49e022d4a"
      },
      "source": [
        "# example to convert logs templates into vectors\n",
        "x_train = template2vec(inputs, embedding_table, counter_idf)\n",
        "x_train = np.array(x_train)\n",
        "x_train.shape"
      ],
      "execution_count": 29,
      "outputs": [
        {
          "output_type": "execute_result",
          "data": {
            "text/plain": [
              "(2, 300)"
            ]
          },
          "metadata": {
            "tags": []
          },
          "execution_count": 29
        }
      ]
    },
    {
      "cell_type": "code",
      "metadata": {
        "id": "yhHFWZoQYEzz",
        "colab_type": "code",
        "colab": {}
      },
      "source": [
        "# generate csv file of log_templates that contains template vectors"
      ],
      "execution_count": null,
      "outputs": []
    },
    {
      "cell_type": "code",
      "metadata": {
        "id": "FutIPMDAYEVX",
        "colab_type": "code",
        "colab": {
          "base_uri": "https://localhost:8080/",
          "height": 545
        },
        "outputId": "4e02dc62-fa1a-4cd7-97cb-bbeb12595c0b"
      },
      "source": [
        "df_template = pd.read_csv('HDFS_2k.log_templates.csv')\n",
        "df_template"
      ],
      "execution_count": 105,
      "outputs": [
        {
          "output_type": "execute_result",
          "data": {
            "text/html": [
              "<div>\n",
              "<style scoped>\n",
              "    .dataframe tbody tr th:only-of-type {\n",
              "        vertical-align: middle;\n",
              "    }\n",
              "\n",
              "    .dataframe tbody tr th {\n",
              "        vertical-align: top;\n",
              "    }\n",
              "\n",
              "    .dataframe thead th {\n",
              "        text-align: right;\n",
              "    }\n",
              "</style>\n",
              "<table border=\"1\" class=\"dataframe\">\n",
              "  <thead>\n",
              "    <tr style=\"text-align: right;\">\n",
              "      <th></th>\n",
              "      <th>EventId</th>\n",
              "      <th>EventTemplate</th>\n",
              "      <th>Occurrences</th>\n",
              "    </tr>\n",
              "  </thead>\n",
              "  <tbody>\n",
              "    <tr>\n",
              "      <th>0</th>\n",
              "      <td>dc2c74b7</td>\n",
              "      <td>PacketResponder &lt;*&gt; for block &lt;*&gt; terminating</td>\n",
              "      <td>311</td>\n",
              "    </tr>\n",
              "    <tr>\n",
              "      <th>1</th>\n",
              "      <td>5d5de21c</td>\n",
              "      <td>BLOCK* NameSystem.addStoredBlock: blockMap upd...</td>\n",
              "      <td>314</td>\n",
              "    </tr>\n",
              "    <tr>\n",
              "      <th>2</th>\n",
              "      <td>e3df2680</td>\n",
              "      <td>Received block &lt;*&gt; of size &lt;*&gt; from &lt;*&gt;</td>\n",
              "      <td>292</td>\n",
              "    </tr>\n",
              "    <tr>\n",
              "      <th>3</th>\n",
              "      <td>09a53393</td>\n",
              "      <td>Receiving block &lt;*&gt; src: &lt;*&gt; dest: &lt;*&gt;</td>\n",
              "      <td>292</td>\n",
              "    </tr>\n",
              "    <tr>\n",
              "      <th>4</th>\n",
              "      <td>3d91fa85</td>\n",
              "      <td>BLOCK* NameSystem.allocateBlock: &lt;*&gt; &lt;*&gt;</td>\n",
              "      <td>115</td>\n",
              "    </tr>\n",
              "    <tr>\n",
              "      <th>5</th>\n",
              "      <td>32777b38</td>\n",
              "      <td>Verification succeeded for &lt;*&gt;</td>\n",
              "      <td>20</td>\n",
              "    </tr>\n",
              "    <tr>\n",
              "      <th>6</th>\n",
              "      <td>dba996ef</td>\n",
              "      <td>Deleting block &lt;*&gt; file &lt;*&gt;</td>\n",
              "      <td>263</td>\n",
              "    </tr>\n",
              "    <tr>\n",
              "      <th>7</th>\n",
              "      <td>626085d5</td>\n",
              "      <td>&lt;*&gt; Served block &lt;*&gt; to &lt;*&gt;</td>\n",
              "      <td>80</td>\n",
              "    </tr>\n",
              "    <tr>\n",
              "      <th>8</th>\n",
              "      <td>81cee340</td>\n",
              "      <td>&lt;*&gt;Got exception while serving &lt;*&gt; to &lt;*&gt;</td>\n",
              "      <td>80</td>\n",
              "    </tr>\n",
              "    <tr>\n",
              "      <th>9</th>\n",
              "      <td>d63ef163</td>\n",
              "      <td>BLOCK* NameSystem.delete: &lt;*&gt; is added to inva...</td>\n",
              "      <td>224</td>\n",
              "    </tr>\n",
              "    <tr>\n",
              "      <th>10</th>\n",
              "      <td>40651754</td>\n",
              "      <td>&lt;*&gt; Starting thread to transfer block &lt;*&gt; to &lt;*&gt;</td>\n",
              "      <td>1</td>\n",
              "    </tr>\n",
              "    <tr>\n",
              "      <th>11</th>\n",
              "      <td>04137b95</td>\n",
              "      <td>BLOCK* ask &lt;*&gt; to delete &lt;*&gt;</td>\n",
              "      <td>2</td>\n",
              "    </tr>\n",
              "    <tr>\n",
              "      <th>12</th>\n",
              "      <td>d6b7b743</td>\n",
              "      <td>Received block &lt;*&gt; src: &lt;*&gt; dest: &lt;*&gt; of size &lt;*&gt;</td>\n",
              "      <td>2</td>\n",
              "    </tr>\n",
              "    <tr>\n",
              "      <th>13</th>\n",
              "      <td>98012f03</td>\n",
              "      <td>BLOCK* ask &lt;*&gt; to delete &lt;*&gt; &lt;*&gt; &lt;*&gt; &lt;*&gt; &lt;*&gt; &lt;...</td>\n",
              "      <td>2</td>\n",
              "    </tr>\n",
              "    <tr>\n",
              "      <th>14</th>\n",
              "      <td>728076ac</td>\n",
              "      <td>BLOCK* ask &lt;*&gt; to replicate &lt;*&gt; to datanode(s)...</td>\n",
              "      <td>1</td>\n",
              "    </tr>\n",
              "    <tr>\n",
              "      <th>15</th>\n",
              "      <td>415a1760</td>\n",
              "      <td>BLOCK* ask &lt;*&gt; to delete &lt;*&gt; &lt;*&gt; &lt;*&gt; &lt;*&gt; &lt;*&gt; &lt;...</td>\n",
              "      <td>1</td>\n",
              "    </tr>\n",
              "  </tbody>\n",
              "</table>\n",
              "</div>"
            ],
            "text/plain": [
              "     EventId                                      EventTemplate  Occurrences\n",
              "0   dc2c74b7      PacketResponder <*> for block <*> terminating          311\n",
              "1   5d5de21c  BLOCK* NameSystem.addStoredBlock: blockMap upd...          314\n",
              "2   e3df2680            Received block <*> of size <*> from <*>          292\n",
              "3   09a53393             Receiving block <*> src: <*> dest: <*>          292\n",
              "4   3d91fa85           BLOCK* NameSystem.allocateBlock: <*> <*>          115\n",
              "5   32777b38                     Verification succeeded for <*>           20\n",
              "6   dba996ef                        Deleting block <*> file <*>          263\n",
              "7   626085d5                        <*> Served block <*> to <*>           80\n",
              "8   81cee340          <*>Got exception while serving <*> to <*>           80\n",
              "9   d63ef163  BLOCK* NameSystem.delete: <*> is added to inva...          224\n",
              "10  40651754   <*> Starting thread to transfer block <*> to <*>            1\n",
              "11  04137b95                       BLOCK* ask <*> to delete <*>            2\n",
              "12  d6b7b743  Received block <*> src: <*> dest: <*> of size <*>            2\n",
              "13  98012f03  BLOCK* ask <*> to delete <*> <*> <*> <*> <*> <...            2\n",
              "14  728076ac  BLOCK* ask <*> to replicate <*> to datanode(s)...            1\n",
              "15  415a1760  BLOCK* ask <*> to delete <*> <*> <*> <*> <*> <...            1"
            ]
          },
          "metadata": {
            "tags": []
          },
          "execution_count": 105
        }
      ]
    },
    {
      "cell_type": "code",
      "metadata": {
        "id": "0SWPZgiu7Z5z",
        "colab_type": "code",
        "colab": {
          "base_uri": "https://localhost:8080/",
          "height": 545
        },
        "outputId": "aeb8f5f3-1be8-4dcb-a6a7-305b2f167d9a"
      },
      "source": [
        "eventid_vectors = []\n",
        "# get counter for idf\n",
        "counter_idf = calculate_freq(template2tokens(df_template['EventTemplate']), mode_idf=True)\n",
        "for event_id, template, occurrences in df_template.iloc:\n",
        "    eventid_vectors.append(' '.join(map(str, template2vec([template], embedding_table, counter_idf)[0])))\n",
        "df_template['vector'] = eventid_vectors\n",
        "df_template"
      ],
      "execution_count": 106,
      "outputs": [
        {
          "output_type": "execute_result",
          "data": {
            "text/html": [
              "<div>\n",
              "<style scoped>\n",
              "    .dataframe tbody tr th:only-of-type {\n",
              "        vertical-align: middle;\n",
              "    }\n",
              "\n",
              "    .dataframe tbody tr th {\n",
              "        vertical-align: top;\n",
              "    }\n",
              "\n",
              "    .dataframe thead th {\n",
              "        text-align: right;\n",
              "    }\n",
              "</style>\n",
              "<table border=\"1\" class=\"dataframe\">\n",
              "  <thead>\n",
              "    <tr style=\"text-align: right;\">\n",
              "      <th></th>\n",
              "      <th>EventId</th>\n",
              "      <th>EventTemplate</th>\n",
              "      <th>Occurrences</th>\n",
              "      <th>vector</th>\n",
              "    </tr>\n",
              "  </thead>\n",
              "  <tbody>\n",
              "    <tr>\n",
              "      <th>0</th>\n",
              "      <td>dc2c74b7</td>\n",
              "      <td>PacketResponder &lt;*&gt; for block &lt;*&gt; terminating</td>\n",
              "      <td>311</td>\n",
              "      <td>0.10066175274550915 0.11497305858938489 -0.115...</td>\n",
              "    </tr>\n",
              "    <tr>\n",
              "      <th>1</th>\n",
              "      <td>5d5de21c</td>\n",
              "      <td>BLOCK* NameSystem.addStoredBlock: blockMap upd...</td>\n",
              "      <td>314</td>\n",
              "      <td>-0.019324294693598695 0.008473816761662338 0.0...</td>\n",
              "    </tr>\n",
              "    <tr>\n",
              "      <th>2</th>\n",
              "      <td>e3df2680</td>\n",
              "      <td>Received block &lt;*&gt; of size &lt;*&gt; from &lt;*&gt;</td>\n",
              "      <td>292</td>\n",
              "      <td>0.02841035866489013 0.08096243382897228 -0.033...</td>\n",
              "    </tr>\n",
              "    <tr>\n",
              "      <th>3</th>\n",
              "      <td>09a53393</td>\n",
              "      <td>Receiving block &lt;*&gt; src: &lt;*&gt; dest: &lt;*&gt;</td>\n",
              "      <td>292</td>\n",
              "      <td>-0.012383171560941264 0.06781194698123727 -0.0...</td>\n",
              "    </tr>\n",
              "    <tr>\n",
              "      <th>4</th>\n",
              "      <td>3d91fa85</td>\n",
              "      <td>BLOCK* NameSystem.allocateBlock: &lt;*&gt; &lt;*&gt;</td>\n",
              "      <td>115</td>\n",
              "      <td>-0.016556531935930253 0.012131390906870366 0.0...</td>\n",
              "    </tr>\n",
              "    <tr>\n",
              "      <th>5</th>\n",
              "      <td>32777b38</td>\n",
              "      <td>Verification succeeded for &lt;*&gt;</td>\n",
              "      <td>20</td>\n",
              "      <td>0.022925840690732002 0.1724896803498268 -0.326...</td>\n",
              "    </tr>\n",
              "    <tr>\n",
              "      <th>6</th>\n",
              "      <td>dba996ef</td>\n",
              "      <td>Deleting block &lt;*&gt; file &lt;*&gt;</td>\n",
              "      <td>263</td>\n",
              "      <td>-0.0012931609526276588 0.08127783429032813 0.0...</td>\n",
              "    </tr>\n",
              "    <tr>\n",
              "      <th>7</th>\n",
              "      <td>626085d5</td>\n",
              "      <td>&lt;*&gt; Served block &lt;*&gt; to &lt;*&gt;</td>\n",
              "      <td>80</td>\n",
              "      <td>0.01732614046583573 0.07184720974570762 -0.052...</td>\n",
              "    </tr>\n",
              "    <tr>\n",
              "      <th>8</th>\n",
              "      <td>81cee340</td>\n",
              "      <td>&lt;*&gt;Got exception while serving &lt;*&gt; to &lt;*&gt;</td>\n",
              "      <td>80</td>\n",
              "      <td>-0.07136904262006283 0.07215860148426145 -0.04...</td>\n",
              "    </tr>\n",
              "    <tr>\n",
              "      <th>9</th>\n",
              "      <td>d63ef163</td>\n",
              "      <td>BLOCK* NameSystem.delete: &lt;*&gt; is added to inva...</td>\n",
              "      <td>224</td>\n",
              "      <td>-0.007974783889949322 6.732780353299208e-05 -0...</td>\n",
              "    </tr>\n",
              "    <tr>\n",
              "      <th>10</th>\n",
              "      <td>40651754</td>\n",
              "      <td>&lt;*&gt; Starting thread to transfer block &lt;*&gt; to &lt;*&gt;</td>\n",
              "      <td>1</td>\n",
              "      <td>0.04038517628796399 0.06825938322581351 0.0202...</td>\n",
              "    </tr>\n",
              "    <tr>\n",
              "      <th>11</th>\n",
              "      <td>04137b95</td>\n",
              "      <td>BLOCK* ask &lt;*&gt; to delete &lt;*&gt;</td>\n",
              "      <td>2</td>\n",
              "      <td>0.0026458591843644776 0.021153123467229307 0.0...</td>\n",
              "    </tr>\n",
              "    <tr>\n",
              "      <th>12</th>\n",
              "      <td>d6b7b743</td>\n",
              "      <td>Received block &lt;*&gt; src: &lt;*&gt; dest: &lt;*&gt; of size &lt;*&gt;</td>\n",
              "      <td>2</td>\n",
              "      <td>-0.006023234012536705 0.061360478634014726 -0....</td>\n",
              "    </tr>\n",
              "    <tr>\n",
              "      <th>13</th>\n",
              "      <td>98012f03</td>\n",
              "      <td>BLOCK* ask &lt;*&gt; to delete &lt;*&gt; &lt;*&gt; &lt;*&gt; &lt;*&gt; &lt;*&gt; &lt;...</td>\n",
              "      <td>2</td>\n",
              "      <td>0.0026458591843644776 0.021153123467229307 0.0...</td>\n",
              "    </tr>\n",
              "    <tr>\n",
              "      <th>14</th>\n",
              "      <td>728076ac</td>\n",
              "      <td>BLOCK* ask &lt;*&gt; to replicate &lt;*&gt; to datanode(s)...</td>\n",
              "      <td>1</td>\n",
              "      <td>0.06201642262749374 -0.04110526187287178 0.009...</td>\n",
              "    </tr>\n",
              "    <tr>\n",
              "      <th>15</th>\n",
              "      <td>415a1760</td>\n",
              "      <td>BLOCK* ask &lt;*&gt; to delete &lt;*&gt; &lt;*&gt; &lt;*&gt; &lt;*&gt; &lt;*&gt; &lt;...</td>\n",
              "      <td>1</td>\n",
              "      <td>0.0026458591843644776 0.021153123467229307 0.0...</td>\n",
              "    </tr>\n",
              "  </tbody>\n",
              "</table>\n",
              "</div>"
            ],
            "text/plain": [
              "     EventId  ...                                             vector\n",
              "0   dc2c74b7  ...  0.10066175274550915 0.11497305858938489 -0.115...\n",
              "1   5d5de21c  ...  -0.019324294693598695 0.008473816761662338 0.0...\n",
              "2   e3df2680  ...  0.02841035866489013 0.08096243382897228 -0.033...\n",
              "3   09a53393  ...  -0.012383171560941264 0.06781194698123727 -0.0...\n",
              "4   3d91fa85  ...  -0.016556531935930253 0.012131390906870366 0.0...\n",
              "5   32777b38  ...  0.022925840690732002 0.1724896803498268 -0.326...\n",
              "6   dba996ef  ...  -0.0012931609526276588 0.08127783429032813 0.0...\n",
              "7   626085d5  ...  0.01732614046583573 0.07184720974570762 -0.052...\n",
              "8   81cee340  ...  -0.07136904262006283 0.07215860148426145 -0.04...\n",
              "9   d63ef163  ...  -0.007974783889949322 6.732780353299208e-05 -0...\n",
              "10  40651754  ...  0.04038517628796399 0.06825938322581351 0.0202...\n",
              "11  04137b95  ...  0.0026458591843644776 0.021153123467229307 0.0...\n",
              "12  d6b7b743  ...  -0.006023234012536705 0.061360478634014726 -0....\n",
              "13  98012f03  ...  0.0026458591843644776 0.021153123467229307 0.0...\n",
              "14  728076ac  ...  0.06201642262749374 -0.04110526187287178 0.009...\n",
              "15  415a1760  ...  0.0026458591843644776 0.021153123467229307 0.0...\n",
              "\n",
              "[16 rows x 4 columns]"
            ]
          },
          "metadata": {
            "tags": []
          },
          "execution_count": 106
        }
      ]
    },
    {
      "cell_type": "code",
      "metadata": {
        "id": "lAugoRSHrXYN",
        "colab_type": "code",
        "colab": {}
      },
      "source": [
        "df_template.to_csv('HDFS_2k.log_templates_with_vec.csv', index=False)"
      ],
      "execution_count": 107,
      "outputs": []
    },
    {
      "cell_type": "code",
      "metadata": {
        "id": "F_o_4CrQuih1",
        "colab_type": "code",
        "colab": {}
      },
      "source": [
        ""
      ],
      "execution_count": null,
      "outputs": []
    },
    {
      "cell_type": "code",
      "metadata": {
        "id": "G9Pzn5kfr5X1",
        "colab_type": "code",
        "colab": {
          "base_uri": "https://localhost:8080/",
          "height": 545
        },
        "outputId": "a13f9f02-e6f3-4861-e407-ce001307daaf"
      },
      "source": [
        "# try to read template vectors back\n",
        "df=pd.read_csv('HDFS_2k.log_templates_with_vec.csv')\n",
        "df"
      ],
      "execution_count": 123,
      "outputs": [
        {
          "output_type": "execute_result",
          "data": {
            "text/html": [
              "<div>\n",
              "<style scoped>\n",
              "    .dataframe tbody tr th:only-of-type {\n",
              "        vertical-align: middle;\n",
              "    }\n",
              "\n",
              "    .dataframe tbody tr th {\n",
              "        vertical-align: top;\n",
              "    }\n",
              "\n",
              "    .dataframe thead th {\n",
              "        text-align: right;\n",
              "    }\n",
              "</style>\n",
              "<table border=\"1\" class=\"dataframe\">\n",
              "  <thead>\n",
              "    <tr style=\"text-align: right;\">\n",
              "      <th></th>\n",
              "      <th>EventId</th>\n",
              "      <th>EventTemplate</th>\n",
              "      <th>Occurrences</th>\n",
              "      <th>vector</th>\n",
              "    </tr>\n",
              "  </thead>\n",
              "  <tbody>\n",
              "    <tr>\n",
              "      <th>0</th>\n",
              "      <td>dc2c74b7</td>\n",
              "      <td>PacketResponder &lt;*&gt; for block &lt;*&gt; terminating</td>\n",
              "      <td>311</td>\n",
              "      <td>0.10066175274550915 0.11497305858938489 -0.115...</td>\n",
              "    </tr>\n",
              "    <tr>\n",
              "      <th>1</th>\n",
              "      <td>5d5de21c</td>\n",
              "      <td>BLOCK* NameSystem.addStoredBlock: blockMap upd...</td>\n",
              "      <td>314</td>\n",
              "      <td>-0.019324294693598695 0.008473816761662338 0.0...</td>\n",
              "    </tr>\n",
              "    <tr>\n",
              "      <th>2</th>\n",
              "      <td>e3df2680</td>\n",
              "      <td>Received block &lt;*&gt; of size &lt;*&gt; from &lt;*&gt;</td>\n",
              "      <td>292</td>\n",
              "      <td>0.02841035866489013 0.08096243382897228 -0.033...</td>\n",
              "    </tr>\n",
              "    <tr>\n",
              "      <th>3</th>\n",
              "      <td>09a53393</td>\n",
              "      <td>Receiving block &lt;*&gt; src: &lt;*&gt; dest: &lt;*&gt;</td>\n",
              "      <td>292</td>\n",
              "      <td>-0.012383171560941264 0.06781194698123727 -0.0...</td>\n",
              "    </tr>\n",
              "    <tr>\n",
              "      <th>4</th>\n",
              "      <td>3d91fa85</td>\n",
              "      <td>BLOCK* NameSystem.allocateBlock: &lt;*&gt; &lt;*&gt;</td>\n",
              "      <td>115</td>\n",
              "      <td>-0.016556531935930253 0.012131390906870366 0.0...</td>\n",
              "    </tr>\n",
              "    <tr>\n",
              "      <th>5</th>\n",
              "      <td>32777b38</td>\n",
              "      <td>Verification succeeded for &lt;*&gt;</td>\n",
              "      <td>20</td>\n",
              "      <td>0.022925840690732002 0.1724896803498268 -0.326...</td>\n",
              "    </tr>\n",
              "    <tr>\n",
              "      <th>6</th>\n",
              "      <td>dba996ef</td>\n",
              "      <td>Deleting block &lt;*&gt; file &lt;*&gt;</td>\n",
              "      <td>263</td>\n",
              "      <td>-0.0012931609526276588 0.08127783429032813 0.0...</td>\n",
              "    </tr>\n",
              "    <tr>\n",
              "      <th>7</th>\n",
              "      <td>626085d5</td>\n",
              "      <td>&lt;*&gt; Served block &lt;*&gt; to &lt;*&gt;</td>\n",
              "      <td>80</td>\n",
              "      <td>0.01732614046583573 0.07184720974570762 -0.052...</td>\n",
              "    </tr>\n",
              "    <tr>\n",
              "      <th>8</th>\n",
              "      <td>81cee340</td>\n",
              "      <td>&lt;*&gt;Got exception while serving &lt;*&gt; to &lt;*&gt;</td>\n",
              "      <td>80</td>\n",
              "      <td>-0.07136904262006283 0.07215860148426145 -0.04...</td>\n",
              "    </tr>\n",
              "    <tr>\n",
              "      <th>9</th>\n",
              "      <td>d63ef163</td>\n",
              "      <td>BLOCK* NameSystem.delete: &lt;*&gt; is added to inva...</td>\n",
              "      <td>224</td>\n",
              "      <td>-0.007974783889949322 6.732780353299208e-05 -0...</td>\n",
              "    </tr>\n",
              "    <tr>\n",
              "      <th>10</th>\n",
              "      <td>40651754</td>\n",
              "      <td>&lt;*&gt; Starting thread to transfer block &lt;*&gt; to &lt;*&gt;</td>\n",
              "      <td>1</td>\n",
              "      <td>0.04038517628796399 0.06825938322581351 0.0202...</td>\n",
              "    </tr>\n",
              "    <tr>\n",
              "      <th>11</th>\n",
              "      <td>04137b95</td>\n",
              "      <td>BLOCK* ask &lt;*&gt; to delete &lt;*&gt;</td>\n",
              "      <td>2</td>\n",
              "      <td>0.0026458591843644776 0.021153123467229307 0.0...</td>\n",
              "    </tr>\n",
              "    <tr>\n",
              "      <th>12</th>\n",
              "      <td>d6b7b743</td>\n",
              "      <td>Received block &lt;*&gt; src: &lt;*&gt; dest: &lt;*&gt; of size &lt;*&gt;</td>\n",
              "      <td>2</td>\n",
              "      <td>-0.006023234012536705 0.061360478634014726 -0....</td>\n",
              "    </tr>\n",
              "    <tr>\n",
              "      <th>13</th>\n",
              "      <td>98012f03</td>\n",
              "      <td>BLOCK* ask &lt;*&gt; to delete &lt;*&gt; &lt;*&gt; &lt;*&gt; &lt;*&gt; &lt;*&gt; &lt;...</td>\n",
              "      <td>2</td>\n",
              "      <td>0.0026458591843644776 0.021153123467229307 0.0...</td>\n",
              "    </tr>\n",
              "    <tr>\n",
              "      <th>14</th>\n",
              "      <td>728076ac</td>\n",
              "      <td>BLOCK* ask &lt;*&gt; to replicate &lt;*&gt; to datanode(s)...</td>\n",
              "      <td>1</td>\n",
              "      <td>0.06201642262749374 -0.04110526187287178 0.009...</td>\n",
              "    </tr>\n",
              "    <tr>\n",
              "      <th>15</th>\n",
              "      <td>415a1760</td>\n",
              "      <td>BLOCK* ask &lt;*&gt; to delete &lt;*&gt; &lt;*&gt; &lt;*&gt; &lt;*&gt; &lt;*&gt; &lt;...</td>\n",
              "      <td>1</td>\n",
              "      <td>0.0026458591843644776 0.021153123467229307 0.0...</td>\n",
              "    </tr>\n",
              "  </tbody>\n",
              "</table>\n",
              "</div>"
            ],
            "text/plain": [
              "     EventId  ...                                             vector\n",
              "0   dc2c74b7  ...  0.10066175274550915 0.11497305858938489 -0.115...\n",
              "1   5d5de21c  ...  -0.019324294693598695 0.008473816761662338 0.0...\n",
              "2   e3df2680  ...  0.02841035866489013 0.08096243382897228 -0.033...\n",
              "3   09a53393  ...  -0.012383171560941264 0.06781194698123727 -0.0...\n",
              "4   3d91fa85  ...  -0.016556531935930253 0.012131390906870366 0.0...\n",
              "5   32777b38  ...  0.022925840690732002 0.1724896803498268 -0.326...\n",
              "6   dba996ef  ...  -0.0012931609526276588 0.08127783429032813 0.0...\n",
              "7   626085d5  ...  0.01732614046583573 0.07184720974570762 -0.052...\n",
              "8   81cee340  ...  -0.07136904262006283 0.07215860148426145 -0.04...\n",
              "9   d63ef163  ...  -0.007974783889949322 6.732780353299208e-05 -0...\n",
              "10  40651754  ...  0.04038517628796399 0.06825938322581351 0.0202...\n",
              "11  04137b95  ...  0.0026458591843644776 0.021153123467229307 0.0...\n",
              "12  d6b7b743  ...  -0.006023234012536705 0.061360478634014726 -0....\n",
              "13  98012f03  ...  0.0026458591843644776 0.021153123467229307 0.0...\n",
              "14  728076ac  ...  0.06201642262749374 -0.04110526187287178 0.009...\n",
              "15  415a1760  ...  0.0026458591843644776 0.021153123467229307 0.0...\n",
              "\n",
              "[16 rows x 4 columns]"
            ]
          },
          "metadata": {
            "tags": []
          },
          "execution_count": 123
        }
      ]
    },
    {
      "cell_type": "code",
      "metadata": {
        "id": "6kfS2DYjwnPQ",
        "colab_type": "code",
        "colab": {}
      },
      "source": [
        "eventid_vector_table = {}\n",
        "for event_id, vector in df[['EventId', 'vector']].iloc:\n",
        "    # eventid_vector_table[event_id] = np.fromstring(vector, dtype=np.float, sep=' ')\n",
        "    eventid_vector_table[event_id] = vector # in str format for convenience"
      ],
      "execution_count": 124,
      "outputs": []
    },
    {
      "cell_type": "code",
      "metadata": {
        "id": "sAPHRPF54Lqj",
        "colab_type": "code",
        "colab": {}
      },
      "source": [
        ""
      ],
      "execution_count": null,
      "outputs": []
    },
    {
      "cell_type": "code",
      "metadata": {
        "id": "VUiGyWLMxVXP",
        "colab_type": "code",
        "colab": {}
      },
      "source": [
        "# generate csv file of log_structured that contains template vectors"
      ],
      "execution_count": 130,
      "outputs": []
    },
    {
      "cell_type": "code",
      "metadata": {
        "id": "W1HkpY8EHg--",
        "colab_type": "code",
        "colab": {
          "base_uri": "https://localhost:8080/",
          "height": 589
        },
        "outputId": "eb51f6e4-c995-401d-ad98-fc8a8a881de4"
      },
      "source": [
        "df_structured = pd.read_csv('HDFS_2k.log_structured.csv', dtype=str) # prevents leading zeros of integer fields being removed\n",
        "df_structured"
      ],
      "execution_count": 132,
      "outputs": [
        {
          "output_type": "execute_result",
          "data": {
            "text/html": [
              "<div>\n",
              "<style scoped>\n",
              "    .dataframe tbody tr th:only-of-type {\n",
              "        vertical-align: middle;\n",
              "    }\n",
              "\n",
              "    .dataframe tbody tr th {\n",
              "        vertical-align: top;\n",
              "    }\n",
              "\n",
              "    .dataframe thead th {\n",
              "        text-align: right;\n",
              "    }\n",
              "</style>\n",
              "<table border=\"1\" class=\"dataframe\">\n",
              "  <thead>\n",
              "    <tr style=\"text-align: right;\">\n",
              "      <th></th>\n",
              "      <th>LineId</th>\n",
              "      <th>Date</th>\n",
              "      <th>Time</th>\n",
              "      <th>Pid</th>\n",
              "      <th>Level</th>\n",
              "      <th>Component</th>\n",
              "      <th>Content</th>\n",
              "      <th>EventId</th>\n",
              "      <th>EventTemplate</th>\n",
              "      <th>ParameterList</th>\n",
              "    </tr>\n",
              "  </thead>\n",
              "  <tbody>\n",
              "    <tr>\n",
              "      <th>0</th>\n",
              "      <td>1</td>\n",
              "      <td>081109</td>\n",
              "      <td>203615</td>\n",
              "      <td>148</td>\n",
              "      <td>INFO</td>\n",
              "      <td>dfs.DataNode$PacketResponder</td>\n",
              "      <td>PacketResponder 1 for block blk_38865049064139...</td>\n",
              "      <td>dc2c74b7</td>\n",
              "      <td>PacketResponder &lt;*&gt; for block &lt;*&gt; terminating</td>\n",
              "      <td>['1', 'blk_38865049064139660']</td>\n",
              "    </tr>\n",
              "    <tr>\n",
              "      <th>1</th>\n",
              "      <td>2</td>\n",
              "      <td>081109</td>\n",
              "      <td>203807</td>\n",
              "      <td>222</td>\n",
              "      <td>INFO</td>\n",
              "      <td>dfs.DataNode$PacketResponder</td>\n",
              "      <td>PacketResponder 0 for block blk_-6952295868487...</td>\n",
              "      <td>dc2c74b7</td>\n",
              "      <td>PacketResponder &lt;*&gt; for block &lt;*&gt; terminating</td>\n",
              "      <td>['0', 'blk_-6952295868487656571']</td>\n",
              "    </tr>\n",
              "    <tr>\n",
              "      <th>2</th>\n",
              "      <td>3</td>\n",
              "      <td>081109</td>\n",
              "      <td>204005</td>\n",
              "      <td>35</td>\n",
              "      <td>INFO</td>\n",
              "      <td>dfs.FSNamesystem</td>\n",
              "      <td>BLOCK* NameSystem.addStoredBlock: blockMap upd...</td>\n",
              "      <td>5d5de21c</td>\n",
              "      <td>BLOCK* NameSystem.addStoredBlock: blockMap upd...</td>\n",
              "      <td>['10.251.73.220:50010', 'blk_71283702376877284...</td>\n",
              "    </tr>\n",
              "    <tr>\n",
              "      <th>3</th>\n",
              "      <td>4</td>\n",
              "      <td>081109</td>\n",
              "      <td>204015</td>\n",
              "      <td>308</td>\n",
              "      <td>INFO</td>\n",
              "      <td>dfs.DataNode$PacketResponder</td>\n",
              "      <td>PacketResponder 2 for block blk_82291938032499...</td>\n",
              "      <td>dc2c74b7</td>\n",
              "      <td>PacketResponder &lt;*&gt; for block &lt;*&gt; terminating</td>\n",
              "      <td>['2', 'blk_8229193803249955061']</td>\n",
              "    </tr>\n",
              "    <tr>\n",
              "      <th>4</th>\n",
              "      <td>5</td>\n",
              "      <td>081109</td>\n",
              "      <td>204106</td>\n",
              "      <td>329</td>\n",
              "      <td>INFO</td>\n",
              "      <td>dfs.DataNode$PacketResponder</td>\n",
              "      <td>PacketResponder 2 for block blk_-6670958622368...</td>\n",
              "      <td>dc2c74b7</td>\n",
              "      <td>PacketResponder &lt;*&gt; for block &lt;*&gt; terminating</td>\n",
              "      <td>['2', 'blk_-6670958622368987959']</td>\n",
              "    </tr>\n",
              "    <tr>\n",
              "      <th>...</th>\n",
              "      <td>...</td>\n",
              "      <td>...</td>\n",
              "      <td>...</td>\n",
              "      <td>...</td>\n",
              "      <td>...</td>\n",
              "      <td>...</td>\n",
              "      <td>...</td>\n",
              "      <td>...</td>\n",
              "      <td>...</td>\n",
              "      <td>...</td>\n",
              "    </tr>\n",
              "    <tr>\n",
              "      <th>1995</th>\n",
              "      <td>1996</td>\n",
              "      <td>081111</td>\n",
              "      <td>101621</td>\n",
              "      <td>24902</td>\n",
              "      <td>INFO</td>\n",
              "      <td>dfs.DataNode$DataXceiver</td>\n",
              "      <td>Receiving block blk_4198733391373026104 src: /...</td>\n",
              "      <td>09a53393</td>\n",
              "      <td>Receiving block &lt;*&gt; src: &lt;*&gt; dest: &lt;*&gt;</td>\n",
              "      <td>['blk_4198733391373026104', '/10.251.106.10:46...</td>\n",
              "    </tr>\n",
              "    <tr>\n",
              "      <th>1996</th>\n",
              "      <td>1997</td>\n",
              "      <td>081111</td>\n",
              "      <td>101735</td>\n",
              "      <td>26595</td>\n",
              "      <td>INFO</td>\n",
              "      <td>dfs.DataNode$PacketResponder</td>\n",
              "      <td>Received block blk_-5815145248455404269 of siz...</td>\n",
              "      <td>e3df2680</td>\n",
              "      <td>Received block &lt;*&gt; of size &lt;*&gt; from &lt;*&gt;</td>\n",
              "      <td>['blk_-5815145248455404269', '67108864', '/10....</td>\n",
              "    </tr>\n",
              "    <tr>\n",
              "      <th>1997</th>\n",
              "      <td>1998</td>\n",
              "      <td>081111</td>\n",
              "      <td>101804</td>\n",
              "      <td>26494</td>\n",
              "      <td>INFO</td>\n",
              "      <td>dfs.DataNode$DataXceiver</td>\n",
              "      <td>Receiving block blk_-295306975763175640 src: /...</td>\n",
              "      <td>09a53393</td>\n",
              "      <td>Receiving block &lt;*&gt; src: &lt;*&gt; dest: &lt;*&gt;</td>\n",
              "      <td>['blk_-295306975763175640', '/10.250.9.207:532...</td>\n",
              "    </tr>\n",
              "    <tr>\n",
              "      <th>1998</th>\n",
              "      <td>1999</td>\n",
              "      <td>081111</td>\n",
              "      <td>101954</td>\n",
              "      <td>26414</td>\n",
              "      <td>INFO</td>\n",
              "      <td>dfs.DataNode$PacketResponder</td>\n",
              "      <td>PacketResponder 0 for block blk_52257196770490...</td>\n",
              "      <td>dc2c74b7</td>\n",
              "      <td>PacketResponder &lt;*&gt; for block &lt;*&gt; terminating</td>\n",
              "      <td>['0', 'blk_5225719677049010638']</td>\n",
              "    </tr>\n",
              "    <tr>\n",
              "      <th>1999</th>\n",
              "      <td>2000</td>\n",
              "      <td>081111</td>\n",
              "      <td>102017</td>\n",
              "      <td>26347</td>\n",
              "      <td>INFO</td>\n",
              "      <td>dfs.DataNode$DataXceiver</td>\n",
              "      <td>Receiving block blk_4343207286455274569 src: /...</td>\n",
              "      <td>09a53393</td>\n",
              "      <td>Receiving block &lt;*&gt; src: &lt;*&gt; dest: &lt;*&gt;</td>\n",
              "      <td>['blk_4343207286455274569', '/10.250.9.207:597...</td>\n",
              "    </tr>\n",
              "  </tbody>\n",
              "</table>\n",
              "<p>2000 rows × 10 columns</p>\n",
              "</div>"
            ],
            "text/plain": [
              "     LineId  ...                                      ParameterList\n",
              "0         1  ...                     ['1', 'blk_38865049064139660']\n",
              "1         2  ...                  ['0', 'blk_-6952295868487656571']\n",
              "2         3  ...  ['10.251.73.220:50010', 'blk_71283702376877284...\n",
              "3         4  ...                   ['2', 'blk_8229193803249955061']\n",
              "4         5  ...                  ['2', 'blk_-6670958622368987959']\n",
              "...     ...  ...                                                ...\n",
              "1995   1996  ...  ['blk_4198733391373026104', '/10.251.106.10:46...\n",
              "1996   1997  ...  ['blk_-5815145248455404269', '67108864', '/10....\n",
              "1997   1998  ...  ['blk_-295306975763175640', '/10.250.9.207:532...\n",
              "1998   1999  ...                   ['0', 'blk_5225719677049010638']\n",
              "1999   2000  ...  ['blk_4343207286455274569', '/10.250.9.207:597...\n",
              "\n",
              "[2000 rows x 10 columns]"
            ]
          },
          "metadata": {
            "tags": []
          },
          "execution_count": 132
        }
      ]
    },
    {
      "cell_type": "code",
      "metadata": {
        "id": "uLHu3cVVHhEA",
        "colab_type": "code",
        "colab": {
          "base_uri": "https://localhost:8080/",
          "height": 34
        },
        "outputId": "515a162a-39a6-4055-a868-0f30f283f1f1"
      },
      "source": [
        "# check whether all EventId matches\n",
        "all([event_id in eventid_vector_table for event_id in df_structured['EventId']])"
      ],
      "execution_count": 136,
      "outputs": [
        {
          "output_type": "execute_result",
          "data": {
            "text/plain": [
              "True"
            ]
          },
          "metadata": {
            "tags": []
          },
          "execution_count": 136
        }
      ]
    },
    {
      "cell_type": "code",
      "metadata": {
        "id": "DqQPTY01qOB6",
        "colab_type": "code",
        "colab": {
          "base_uri": "https://localhost:8080/",
          "height": 759
        },
        "outputId": "360c7ded-e828-452a-fd83-61349f70cfc3"
      },
      "source": [
        "vector_structured = []\n",
        "for event_id in df_structured['EventId']:\n",
        "    vector_structured.append(eventid_vector_table[event_id])\n",
        "df_structured['vector'] = vector_structured\n",
        "df_structured"
      ],
      "execution_count": 134,
      "outputs": [
        {
          "output_type": "execute_result",
          "data": {
            "text/html": [
              "<div>\n",
              "<style scoped>\n",
              "    .dataframe tbody tr th:only-of-type {\n",
              "        vertical-align: middle;\n",
              "    }\n",
              "\n",
              "    .dataframe tbody tr th {\n",
              "        vertical-align: top;\n",
              "    }\n",
              "\n",
              "    .dataframe thead th {\n",
              "        text-align: right;\n",
              "    }\n",
              "</style>\n",
              "<table border=\"1\" class=\"dataframe\">\n",
              "  <thead>\n",
              "    <tr style=\"text-align: right;\">\n",
              "      <th></th>\n",
              "      <th>LineId</th>\n",
              "      <th>Date</th>\n",
              "      <th>Time</th>\n",
              "      <th>Pid</th>\n",
              "      <th>Level</th>\n",
              "      <th>Component</th>\n",
              "      <th>Content</th>\n",
              "      <th>EventId</th>\n",
              "      <th>EventTemplate</th>\n",
              "      <th>ParameterList</th>\n",
              "      <th>vector</th>\n",
              "    </tr>\n",
              "  </thead>\n",
              "  <tbody>\n",
              "    <tr>\n",
              "      <th>0</th>\n",
              "      <td>1</td>\n",
              "      <td>081109</td>\n",
              "      <td>203615</td>\n",
              "      <td>148</td>\n",
              "      <td>INFO</td>\n",
              "      <td>dfs.DataNode$PacketResponder</td>\n",
              "      <td>PacketResponder 1 for block blk_38865049064139...</td>\n",
              "      <td>dc2c74b7</td>\n",
              "      <td>PacketResponder &lt;*&gt; for block &lt;*&gt; terminating</td>\n",
              "      <td>['1', 'blk_38865049064139660']</td>\n",
              "      <td>0.10066175274550915 0.11497305858938489 -0.115...</td>\n",
              "    </tr>\n",
              "    <tr>\n",
              "      <th>1</th>\n",
              "      <td>2</td>\n",
              "      <td>081109</td>\n",
              "      <td>203807</td>\n",
              "      <td>222</td>\n",
              "      <td>INFO</td>\n",
              "      <td>dfs.DataNode$PacketResponder</td>\n",
              "      <td>PacketResponder 0 for block blk_-6952295868487...</td>\n",
              "      <td>dc2c74b7</td>\n",
              "      <td>PacketResponder &lt;*&gt; for block &lt;*&gt; terminating</td>\n",
              "      <td>['0', 'blk_-6952295868487656571']</td>\n",
              "      <td>0.10066175274550915 0.11497305858938489 -0.115...</td>\n",
              "    </tr>\n",
              "    <tr>\n",
              "      <th>2</th>\n",
              "      <td>3</td>\n",
              "      <td>081109</td>\n",
              "      <td>204005</td>\n",
              "      <td>35</td>\n",
              "      <td>INFO</td>\n",
              "      <td>dfs.FSNamesystem</td>\n",
              "      <td>BLOCK* NameSystem.addStoredBlock: blockMap upd...</td>\n",
              "      <td>5d5de21c</td>\n",
              "      <td>BLOCK* NameSystem.addStoredBlock: blockMap upd...</td>\n",
              "      <td>['10.251.73.220:50010', 'blk_71283702376877284...</td>\n",
              "      <td>-0.019324294693598695 0.008473816761662338 0.0...</td>\n",
              "    </tr>\n",
              "    <tr>\n",
              "      <th>3</th>\n",
              "      <td>4</td>\n",
              "      <td>081109</td>\n",
              "      <td>204015</td>\n",
              "      <td>308</td>\n",
              "      <td>INFO</td>\n",
              "      <td>dfs.DataNode$PacketResponder</td>\n",
              "      <td>PacketResponder 2 for block blk_82291938032499...</td>\n",
              "      <td>dc2c74b7</td>\n",
              "      <td>PacketResponder &lt;*&gt; for block &lt;*&gt; terminating</td>\n",
              "      <td>['2', 'blk_8229193803249955061']</td>\n",
              "      <td>0.10066175274550915 0.11497305858938489 -0.115...</td>\n",
              "    </tr>\n",
              "    <tr>\n",
              "      <th>4</th>\n",
              "      <td>5</td>\n",
              "      <td>081109</td>\n",
              "      <td>204106</td>\n",
              "      <td>329</td>\n",
              "      <td>INFO</td>\n",
              "      <td>dfs.DataNode$PacketResponder</td>\n",
              "      <td>PacketResponder 2 for block blk_-6670958622368...</td>\n",
              "      <td>dc2c74b7</td>\n",
              "      <td>PacketResponder &lt;*&gt; for block &lt;*&gt; terminating</td>\n",
              "      <td>['2', 'blk_-6670958622368987959']</td>\n",
              "      <td>0.10066175274550915 0.11497305858938489 -0.115...</td>\n",
              "    </tr>\n",
              "    <tr>\n",
              "      <th>...</th>\n",
              "      <td>...</td>\n",
              "      <td>...</td>\n",
              "      <td>...</td>\n",
              "      <td>...</td>\n",
              "      <td>...</td>\n",
              "      <td>...</td>\n",
              "      <td>...</td>\n",
              "      <td>...</td>\n",
              "      <td>...</td>\n",
              "      <td>...</td>\n",
              "      <td>...</td>\n",
              "    </tr>\n",
              "    <tr>\n",
              "      <th>1995</th>\n",
              "      <td>1996</td>\n",
              "      <td>081111</td>\n",
              "      <td>101621</td>\n",
              "      <td>24902</td>\n",
              "      <td>INFO</td>\n",
              "      <td>dfs.DataNode$DataXceiver</td>\n",
              "      <td>Receiving block blk_4198733391373026104 src: /...</td>\n",
              "      <td>09a53393</td>\n",
              "      <td>Receiving block &lt;*&gt; src: &lt;*&gt; dest: &lt;*&gt;</td>\n",
              "      <td>['blk_4198733391373026104', '/10.251.106.10:46...</td>\n",
              "      <td>-0.012383171560941264 0.06781194698123727 -0.0...</td>\n",
              "    </tr>\n",
              "    <tr>\n",
              "      <th>1996</th>\n",
              "      <td>1997</td>\n",
              "      <td>081111</td>\n",
              "      <td>101735</td>\n",
              "      <td>26595</td>\n",
              "      <td>INFO</td>\n",
              "      <td>dfs.DataNode$PacketResponder</td>\n",
              "      <td>Received block blk_-5815145248455404269 of siz...</td>\n",
              "      <td>e3df2680</td>\n",
              "      <td>Received block &lt;*&gt; of size &lt;*&gt; from &lt;*&gt;</td>\n",
              "      <td>['blk_-5815145248455404269', '67108864', '/10....</td>\n",
              "      <td>0.02841035866489013 0.08096243382897228 -0.033...</td>\n",
              "    </tr>\n",
              "    <tr>\n",
              "      <th>1997</th>\n",
              "      <td>1998</td>\n",
              "      <td>081111</td>\n",
              "      <td>101804</td>\n",
              "      <td>26494</td>\n",
              "      <td>INFO</td>\n",
              "      <td>dfs.DataNode$DataXceiver</td>\n",
              "      <td>Receiving block blk_-295306975763175640 src: /...</td>\n",
              "      <td>09a53393</td>\n",
              "      <td>Receiving block &lt;*&gt; src: &lt;*&gt; dest: &lt;*&gt;</td>\n",
              "      <td>['blk_-295306975763175640', '/10.250.9.207:532...</td>\n",
              "      <td>-0.012383171560941264 0.06781194698123727 -0.0...</td>\n",
              "    </tr>\n",
              "    <tr>\n",
              "      <th>1998</th>\n",
              "      <td>1999</td>\n",
              "      <td>081111</td>\n",
              "      <td>101954</td>\n",
              "      <td>26414</td>\n",
              "      <td>INFO</td>\n",
              "      <td>dfs.DataNode$PacketResponder</td>\n",
              "      <td>PacketResponder 0 for block blk_52257196770490...</td>\n",
              "      <td>dc2c74b7</td>\n",
              "      <td>PacketResponder &lt;*&gt; for block &lt;*&gt; terminating</td>\n",
              "      <td>['0', 'blk_5225719677049010638']</td>\n",
              "      <td>0.10066175274550915 0.11497305858938489 -0.115...</td>\n",
              "    </tr>\n",
              "    <tr>\n",
              "      <th>1999</th>\n",
              "      <td>2000</td>\n",
              "      <td>081111</td>\n",
              "      <td>102017</td>\n",
              "      <td>26347</td>\n",
              "      <td>INFO</td>\n",
              "      <td>dfs.DataNode$DataXceiver</td>\n",
              "      <td>Receiving block blk_4343207286455274569 src: /...</td>\n",
              "      <td>09a53393</td>\n",
              "      <td>Receiving block &lt;*&gt; src: &lt;*&gt; dest: &lt;*&gt;</td>\n",
              "      <td>['blk_4343207286455274569', '/10.250.9.207:597...</td>\n",
              "      <td>-0.012383171560941264 0.06781194698123727 -0.0...</td>\n",
              "    </tr>\n",
              "  </tbody>\n",
              "</table>\n",
              "<p>2000 rows × 11 columns</p>\n",
              "</div>"
            ],
            "text/plain": [
              "     LineId  ...                                             vector\n",
              "0         1  ...  0.10066175274550915 0.11497305858938489 -0.115...\n",
              "1         2  ...  0.10066175274550915 0.11497305858938489 -0.115...\n",
              "2         3  ...  -0.019324294693598695 0.008473816761662338 0.0...\n",
              "3         4  ...  0.10066175274550915 0.11497305858938489 -0.115...\n",
              "4         5  ...  0.10066175274550915 0.11497305858938489 -0.115...\n",
              "...     ...  ...                                                ...\n",
              "1995   1996  ...  -0.012383171560941264 0.06781194698123727 -0.0...\n",
              "1996   1997  ...  0.02841035866489013 0.08096243382897228 -0.033...\n",
              "1997   1998  ...  -0.012383171560941264 0.06781194698123727 -0.0...\n",
              "1998   1999  ...  0.10066175274550915 0.11497305858938489 -0.115...\n",
              "1999   2000  ...  -0.012383171560941264 0.06781194698123727 -0.0...\n",
              "\n",
              "[2000 rows x 11 columns]"
            ]
          },
          "metadata": {
            "tags": []
          },
          "execution_count": 134
        }
      ]
    },
    {
      "cell_type": "code",
      "metadata": {
        "id": "spsrO4HoHhBv",
        "colab_type": "code",
        "colab": {}
      },
      "source": [
        "df_structured.to_csv('HDFS_2k.log_structured_with_vec.csv', index=False)"
      ],
      "execution_count": 135,
      "outputs": []
    },
    {
      "cell_type": "code",
      "metadata": {
        "id": "KlcRJBJ7Sbzs",
        "colab_type": "code",
        "colab": {}
      },
      "source": [
        "# use np.fromstring to read vector from DataFrame\n",
        "# np.fromstring(vector_str, dtype=np.float, sep=' ')"
      ],
      "execution_count": 135,
      "outputs": []
    },
    {
      "cell_type": "code",
      "metadata": {
        "id": "srdY739_1PTb",
        "colab_type": "code",
        "colab": {}
      },
      "source": [
        ""
      ],
      "execution_count": null,
      "outputs": []
    },
    {
      "cell_type": "code",
      "metadata": {
        "id": "ft-69WDN1Ptx",
        "colab_type": "code",
        "colab": {}
      },
      "source": [
        ""
      ],
      "execution_count": null,
      "outputs": []
    },
    {
      "cell_type": "code",
      "metadata": {
        "id": "vgaTE9C81PX5",
        "colab_type": "code",
        "colab": {}
      },
      "source": [
        ""
      ],
      "execution_count": null,
      "outputs": []
    },
    {
      "cell_type": "code",
      "metadata": {
        "id": "SvcQwf981PP1",
        "colab_type": "code",
        "colab": {}
      },
      "source": [
        ""
      ],
      "execution_count": null,
      "outputs": []
    }
  ]
}