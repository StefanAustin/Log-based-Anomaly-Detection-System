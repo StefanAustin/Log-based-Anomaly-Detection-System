{
  "nbformat": 4,
  "nbformat_minor": 0,
  "metadata": {
    "colab": {
      "name": "tfidf.ipynb",
      "provenance": [],
      "collapsed_sections": []
    },
    "kernelspec": {
      "name": "python3",
      "display_name": "Python 3"
    }
  },
  "cells": [
    {
      "cell_type": "code",
      "metadata": {
        "id": "2fmHKA6I4DYV",
        "colab_type": "code",
        "colab": {}
      },
      "source": [
        "import numpy as np\n",
        "from collections import Counter\n",
        "import nltk\n",
        "from nltk.stem.wordnet import WordNetLemmatizer\n",
        "from nltk.corpus import stopwords\n"
      ],
      "execution_count": null,
      "outputs": []
    },
    {
      "cell_type": "code",
      "metadata": {
        "id": "mo-v8_pXgLFs",
        "colab_type": "code",
        "colab": {}
      },
      "source": [
        "# pretrained word vector `crawl-300d-2M.vec' can be downloaded here\n",
        "# https://dl.fbaipublicfiles.com/fasttext/vectors-english/crawl-300d-2M.vec.zip"
      ],
      "execution_count": null,
      "outputs": []
    },
    {
      "cell_type": "code",
      "metadata": {
        "id": "TTx6_k1wAmqV",
        "colab_type": "code",
        "colab": {
          "base_uri": "https://localhost:8080/",
          "height": 51
        },
        "outputId": "e333c313-004a-42d2-c662-89096f70397a"
      },
      "source": [
        "# !cd '/content/drive/My Drive/Colab Notebooks/DLP_project' && cp 'crawl-300d-2M.vec.zip' /content/\n",
        "# !unzip crawl-300d-2M.vec.zip"
      ],
      "execution_count": null,
      "outputs": [
        {
          "output_type": "stream",
          "text": [
            "Archive:  crawl-300d-2M.vec.zip\n",
            "  inflating: crawl-300d-2M.vec       \n"
          ],
          "name": "stdout"
        }
      ]
    },
    {
      "cell_type": "code",
      "metadata": {
        "id": "mU0qkP0uTO6L",
        "colab_type": "code",
        "colab": {
          "base_uri": "https://localhost:8080/",
          "height": 51
        },
        "outputId": "41b7d71e-ccf2-4d49-eb00-34b0a8695c8d"
      },
      "source": [
        "EMBEDDING_DIM = 300\n",
        "embedding_table = {}\n",
        "with open('crawl-300d-2M.vec') as f:\n",
        "    for i, line in enumerate(f):\n",
        "        if i == 0: # header\n",
        "            print('words, dim =', line.split())\n",
        "            continue\n",
        "        \n",
        "        word, coefs = line.split(maxsplit=1)\n",
        "        coefs = np.fromstring(coefs, 'f', sep=' ')\n",
        "        embedding_table[word] = coefs\n",
        "\n",
        "print('Found %s word vectors.' % len(embedding_table))"
      ],
      "execution_count": 24,
      "outputs": [
        {
          "output_type": "stream",
          "text": [
            "words, dim = ['1999995', '300']\n",
            "Found 1999995 word vectors.\n"
          ],
          "name": "stdout"
        }
      ]
    },
    {
      "cell_type": "code",
      "metadata": {
        "id": "jafTnfqkDzWt",
        "colab_type": "code",
        "colab": {
          "base_uri": "https://localhost:8080/",
          "height": 136
        },
        "outputId": "f289d217-072e-4161-a9aa-5691beb055f3"
      },
      "source": [
        "nltk.download('punkt')\n",
        "nltk.download('stopwords')\n",
        "nltk.download('wordnet')"
      ],
      "execution_count": 25,
      "outputs": [
        {
          "output_type": "stream",
          "text": [
            "[nltk_data] Downloading package punkt to /root/nltk_data...\n",
            "[nltk_data]   Package punkt is already up-to-date!\n",
            "[nltk_data] Downloading package stopwords to /root/nltk_data...\n",
            "[nltk_data]   Package stopwords is already up-to-date!\n",
            "[nltk_data] Downloading package wordnet to /root/nltk_data...\n",
            "[nltk_data]   Package wordnet is already up-to-date!\n"
          ],
          "name": "stdout"
        },
        {
          "output_type": "execute_result",
          "data": {
            "text/plain": [
              "True"
            ]
          },
          "metadata": {
            "tags": []
          },
          "execution_count": 25
        }
      ]
    },
    {
      "cell_type": "code",
      "metadata": {
        "id": "9E85VFFuVqIb",
        "colab_type": "code",
        "colab": {}
      },
      "source": [
        "def template2tokens(templates):\n",
        "    # templates: list of str\n",
        "    # e.g. templates = ['PacketResponder <*> for block <*> terminating', 'Received block <*> of size <*> from <*>']\n",
        "    # return: list of list of str which has been processed (tokens)\n",
        "    # e.g. [['packet', 'responder', 'block', 'terminate'], ['receive', 'block', 'size']]\n",
        "\n",
        "    list_tokens = []\n",
        "\n",
        "    for i, text in enumerate(templates):\n",
        "        for j in reversed(range(len(text))):\n",
        "            if j == 0: break\n",
        "            if not text[j].isalpha():\n",
        "                text = text[:j] + ' ' + text[j + 1:]\n",
        "                continue\n",
        "            if text[j].isupper() and text[j - 1].islower():\n",
        "                text = text[:j] + ' ' + text[j:]\n",
        "        \n",
        "        tokens = nltk.word_tokenize(text.lower())\n",
        "        tokens = [token for token in tokens if token not in stopwords.words('english')]\n",
        "        lemmatizer = WordNetLemmatizer()\n",
        "        tokens = [lemmatizer.lemmatize(token, 'v') for token in tokens]\n",
        "        list_tokens.append(tokens)\n",
        "    \n",
        "    return list_tokens"
      ],
      "execution_count": 26,
      "outputs": []
    },
    {
      "cell_type": "code",
      "metadata": {
        "id": "MfNcMWwGROUh",
        "colab_type": "code",
        "colab": {}
      },
      "source": [
        "def calculate_freq(list_tokens, mode_idf=False, counter=None):\n",
        "    # list_tokens: list of list of str\n",
        "    # e.g. [['packet', 'responder', 'block', 'terminate'], ['receive', 'block', 'size']]\n",
        "    # mode_idf: bool\n",
        "    # if `mode_idf' is set to True, count as idf\n",
        "    # counter: collections.Counter object\n",
        "    # if `counter' parameter is not assigned, generate a new one\n",
        "    # otherwise, the counter object being assigned will be update (aggregate)\n",
        "\n",
        "    if counter is None:\n",
        "        counter = Counter()\n",
        "\n",
        "    for tokens in list_tokens:\n",
        "        if mode_idf:\n",
        "            counter_tokens = Counter(set(tokens))\n",
        "        else:\n",
        "            counter_tokens = Counter(tokens)\n",
        "        \n",
        "        counter.update(counter_tokens)\n",
        "\n",
        "    return counter"
      ],
      "execution_count": 27,
      "outputs": []
    },
    {
      "cell_type": "code",
      "metadata": {
        "id": "Z0jbBK53ClC0",
        "colab_type": "code",
        "colab": {}
      },
      "source": [
        "def template2vec(templates, embedding_table, counter_idf):\n",
        "    # templates: list of str\n",
        "    # e.g. templates = ['PacketResponder <*> for block <*> terminating', 'Received block <*> of size <*> from <*>']\n",
        "    # embedding_table: dict\n",
        "    # a dict mapping words to vectors of dimension EMBEDDING_DIM\n",
        "    # counter_idf: collections.Counter object\n",
        "    # `counter_idf' indicates the counter for calculating idf\n",
        "\n",
        "    list_vectors = []\n",
        "\n",
        "    list_tokens = template2tokens(templates)\n",
        "    for tokens in list_tokens:\n",
        "        vector_token = np.zeros(EMBEDDING_DIM)\n",
        "        \n",
        "        counter_tf = calculate_freq([tokens])\n",
        "        num_valid_token = 0\n",
        "\n",
        "        for token in tokens:\n",
        "            if token not in embedding_table: continue\n",
        "            \n",
        "            num_valid_token += 1\n",
        "\n",
        "            tf = counter_tf[token] / sum(counter_tf.values())\n",
        "            idf = np.log(sum(counter_idf.values()) / (1 + counter_idf.get(token, 0)))\n",
        "\n",
        "            vector = embedding_table[token] * tf * idf\n",
        "            vector_token += vector\n",
        "\n",
        "        list_vectors.append(vector_token / num_valid_token)\n",
        "\n",
        "\n",
        "    return list_vectors"
      ],
      "execution_count": 28,
      "outputs": []
    },
    {
      "cell_type": "code",
      "metadata": {
        "id": "MkqGvmpzWTPZ",
        "colab_type": "code",
        "colab": {}
      },
      "source": [
        "# -----test-----"
      ],
      "execution_count": 29,
      "outputs": []
    },
    {
      "cell_type": "code",
      "metadata": {
        "id": "pMUYINsC4djj",
        "colab_type": "code",
        "colab": {}
      },
      "source": [
        "# example inputs (input 2 log lines)\n",
        "inputs = ['PacketResponder <*> for block <*> terminating', 'Received block <*> of size <*> from <*>']"
      ],
      "execution_count": 30,
      "outputs": []
    },
    {
      "cell_type": "code",
      "metadata": {
        "id": "YfgW-i9G4d0a",
        "colab_type": "code",
        "colab": {
          "base_uri": "https://localhost:8080/",
          "height": 119
        },
        "outputId": "f2d79262-6c89-4100-8dea-fd33bb40589a"
      },
      "source": [
        "# idf of `new_list_tokens' can be aggregate by calling `calculate_freq(new_list_tokens, mode_idf=True, counter=counter_idf)' if needed\n",
        "counter_idf = calculate_freq(list_tokens, mode_idf=True)\n",
        "counter_idf"
      ],
      "execution_count": 31,
      "outputs": [
        {
          "output_type": "execute_result",
          "data": {
            "text/plain": [
              "Counter({'block': 2,\n",
              "         'packet': 1,\n",
              "         'receive': 1,\n",
              "         'responder': 1,\n",
              "         'size': 1,\n",
              "         'terminate': 1})"
            ]
          },
          "metadata": {
            "tags": []
          },
          "execution_count": 31
        }
      ]
    },
    {
      "cell_type": "code",
      "metadata": {
        "id": "lMPNpd8LYEeE",
        "colab_type": "code",
        "colab": {
          "base_uri": "https://localhost:8080/",
          "height": 34
        },
        "outputId": "4383f1f6-f7ce-4112-c363-d7a126388a5b"
      },
      "source": [
        "# example to convert logs templates into vectors\n",
        "x_train = template2vec(inputs, embedding_table, counter_idf)\n",
        "x_train = np.array(x_train)\n",
        "x_train.shape"
      ],
      "execution_count": 32,
      "outputs": [
        {
          "output_type": "execute_result",
          "data": {
            "text/plain": [
              "(2, 300)"
            ]
          },
          "metadata": {
            "tags": []
          },
          "execution_count": 32
        }
      ]
    },
    {
      "cell_type": "code",
      "metadata": {
        "id": "yhHFWZoQYEzz",
        "colab_type": "code",
        "colab": {
          "base_uri": "https://localhost:8080/",
          "height": 1000
        },
        "outputId": "7fc9c3db-f51f-4785-defb-64604a9c17cd"
      },
      "source": [
        "x_train"
      ],
      "execution_count": 33,
      "outputs": [
        {
          "output_type": "execute_result",
          "data": {
            "text/plain": [
              "array([[ 8.18546631e-02,  7.17818979e-02, -6.55269739e-02,\n",
              "         6.30071624e-02,  6.53557193e-02, -3.77150381e-03,\n",
              "        -3.38972183e-02, -3.00304815e-02, -3.69500928e-02,\n",
              "        -1.37476367e-02,  3.68622376e-02,  1.08427417e-01,\n",
              "        -1.28024204e-02, -3.51296179e-03, -5.40419435e-02,\n",
              "         3.79978260e-03, -4.34649130e-03, -1.66587527e-02,\n",
              "         1.59989407e-02, -2.28285402e-02,  4.64677005e-02,\n",
              "         2.46743937e-02,  2.24453406e-02,  3.16291188e-02,\n",
              "         5.18959006e-02,  6.60300464e-03, -2.45101281e-03,\n",
              "        -4.69000496e-02, -4.93869270e-02, -5.21197002e-02,\n",
              "        -4.24118503e-02, -1.44048575e-02, -7.38574315e-02,\n",
              "        -7.71006616e-03,  5.84854707e-02, -2.53630407e-02,\n",
              "        -1.70893276e-02, -2.69763998e-02, -1.32170189e-02,\n",
              "        -6.62608421e-04,  2.30187880e-02,  3.93433969e-02,\n",
              "        -1.45700665e-02,  3.15770211e-02, -5.49768799e-02,\n",
              "        -5.35015180e-02, -2.11154576e-02, -5.00240391e-02,\n",
              "        -6.20637867e-02,  2.36804723e-02, -2.26717924e-02,\n",
              "         5.66401647e-02,  4.29803487e-02, -1.39763113e-02,\n",
              "         4.69780155e-03, -8.26313626e-02,  5.06323876e-02,\n",
              "        -1.23319158e-01, -1.15401288e-01, -2.13048023e-02,\n",
              "         3.28297880e-02, -3.44714480e-02,  8.17084741e-02,\n",
              "        -1.49634954e-01, -2.43464962e-02,  5.41895765e-02,\n",
              "         3.51089713e-02,  7.38204864e-03,  8.59022839e-02,\n",
              "        -6.04391349e-02, -1.18393670e-02, -5.30587040e-02,\n",
              "        -1.12196920e-01, -4.53045368e-02,  1.86899521e-02,\n",
              "         4.57368570e-03, -8.34380286e-02, -1.11947884e-02,\n",
              "         2.63443853e-02, -4.07343438e-02,  7.19526866e-02,\n",
              "         3.91970058e-02,  7.11362697e-02, -1.40102310e-02,\n",
              "        -2.31752433e-02, -2.73377802e-02, -1.76006379e-02,\n",
              "        -1.10485408e-01, -4.64463285e-02, -2.46113325e-02,\n",
              "         1.36609967e-02,  6.52267539e-03, -2.49226416e-02,\n",
              "        -1.85093170e-02, -3.11080427e-02, -5.25171575e-02,\n",
              "         1.76897985e-02, -4.89569111e-02,  2.97419932e-02,\n",
              "         3.08600003e-02,  3.63154337e-02, -1.12998975e-01,\n",
              "         1.15615316e-02, -4.76587808e-02, -3.69971185e-02,\n",
              "         4.56400877e-02,  7.08668341e-03,  5.98819146e-03,\n",
              "        -3.50912623e-02,  4.28551779e-02, -1.09941064e-02,\n",
              "        -1.74595462e-02,  4.13507787e-02, -1.33288512e-02,\n",
              "        -1.48679780e-01,  8.52809055e-04, -3.22735752e-04,\n",
              "         2.86196563e-02,  2.94341194e-02, -1.57633317e-02,\n",
              "        -7.26994474e-02, -6.64514808e-02, -3.37490719e-03,\n",
              "         2.35813120e-02, -1.43216099e-02,  3.30868103e-02,\n",
              "        -7.08770012e-02,  2.51137076e-02,  6.83209468e-02,\n",
              "        -1.33063504e-02, -2.69594297e-02, -2.39620367e-02,\n",
              "        -1.98428847e-02, -5.33353854e-02,  6.80453279e-03,\n",
              "         1.31601100e-02, -9.33569530e-03,  2.12525366e-02,\n",
              "        -9.43584228e-03, -1.40304551e-01, -3.45904380e-03,\n",
              "        -6.28508646e-02,  6.77873977e-02, -7.66508646e-02,\n",
              "        -7.28432634e-02,  1.75487685e-02, -8.64607634e-03,\n",
              "        -5.53409595e-02, -3.65768760e-02, -5.56321815e-03,\n",
              "         6.74276808e-02,  5.16224606e-02,  2.87544135e-02,\n",
              "         2.91408391e-02,  2.34868283e-02,  7.46238837e-03,\n",
              "        -2.68448524e-02, -3.32390976e-02, -9.21060704e-03,\n",
              "         5.90198471e-02,  2.11669020e-01,  1.62589261e-02,\n",
              "        -1.82718021e-02,  1.82667142e-03, -5.64846109e-02,\n",
              "         1.68827223e-02, -5.66561860e-02, -3.01780710e-02,\n",
              "         3.08573213e-02,  3.22653269e-02, -1.37383356e-02,\n",
              "        -1.17867337e-02,  4.03588451e-03,  4.26611677e-03,\n",
              "        -8.94826576e-02, -9.95609781e-03,  5.52545888e-02,\n",
              "         8.33822833e-03,  4.35664738e-02, -1.77061838e-02,\n",
              "        -2.01790915e-02, -6.55201648e-03,  1.57830695e-03,\n",
              "         3.43867934e-02, -1.61474054e-02,  9.20770023e-03,\n",
              "        -5.73890763e-02, -1.09318545e-02, -1.30460970e-03,\n",
              "        -6.32498662e-02,  9.03077709e-03,  6.79056039e-02,\n",
              "        -4.81807748e-02,  1.14576574e-02, -8.79756093e-03,\n",
              "         1.45809902e-02,  3.59428998e-02,  7.75597744e-02,\n",
              "        -2.77422813e-02,  1.03767891e-02,  5.44026959e-02,\n",
              "        -8.96772323e-03, -3.90239654e-03,  2.88302740e-02,\n",
              "         5.76150969e-02,  3.29985117e-02,  6.68384391e-02,\n",
              "        -3.81298286e-02, -5.45613965e-02, -6.53215498e-03,\n",
              "         3.08993815e-02,  1.45962745e-01,  6.64055096e-02,\n",
              "         5.66462195e-02,  3.19365025e-02,  7.86585310e-02,\n",
              "         4.59919174e-02, -9.83776059e-03,  2.00972706e-02,\n",
              "        -2.69149723e-02, -6.15361610e-02,  8.78460845e-02,\n",
              "        -8.48861663e-02, -4.01097564e-02,  1.00954168e-01,\n",
              "        -3.41466628e-03, -1.25986099e-02, -9.31404909e-03,\n",
              "        -2.69510661e-02,  1.22300168e-02,  2.30903700e-02,\n",
              "         3.50410647e-02, -6.67070805e-02,  1.80442998e-03,\n",
              "         2.75550517e-02, -7.60234809e-02,  7.04665557e-02,\n",
              "        -1.59412113e-02,  3.65180494e-02,  1.59436014e-02,\n",
              "        -3.61517221e-02, -1.09843487e-01,  4.94642560e-02,\n",
              "        -6.61830679e-02, -2.66942134e-02, -2.11996604e-02,\n",
              "         9.71171344e-02,  5.18078313e-02,  6.86606085e-02,\n",
              "        -2.45935286e-02,  4.69109323e-02, -3.66728660e-03,\n",
              "         4.14914466e-02, -5.43256982e-02,  8.27898527e-03,\n",
              "         3.88987551e-02,  1.10391209e-02, -2.75185930e-02,\n",
              "         3.94796091e-02,  2.43999134e-02, -4.00236372e-02,\n",
              "        -2.60285027e-02, -3.46707413e-02,  3.48480989e-02,\n",
              "        -5.29030617e-03, -2.12815239e-02, -2.46782694e-02,\n",
              "         1.29637659e-02, -7.07624958e-02, -8.22873507e-02,\n",
              "        -2.33567455e-02, -3.95486178e-03,  4.31613331e-02,\n",
              "        -7.11001456e-04, -2.82772153e-02,  2.23469819e-02,\n",
              "         2.56589358e-03, -4.96080145e-02, -6.39948715e-02,\n",
              "         3.30439005e-02, -7.22945109e-02,  4.68719993e-02,\n",
              "         5.42026926e-02,  1.84637886e-02,  6.61289738e-03,\n",
              "        -1.37284184e-02,  3.51385842e-02,  7.16959918e-02,\n",
              "         2.05215206e-03,  5.12688961e-02, -1.38727501e-02,\n",
              "        -3.18735825e-02,  3.98624055e-02, -2.42364309e-02,\n",
              "        -3.19422027e-02, -6.26559829e-03,  9.73318438e-02,\n",
              "         3.63452733e-03, -2.75083729e-02,  7.29009882e-02],\n",
              "       [ 6.24751433e-02,  7.75295890e-02, -2.37322620e-02,\n",
              "        -4.18822356e-02, -1.04242650e-01, -4.12977611e-03,\n",
              "        -5.73107749e-02,  8.08138152e-03,  9.05165620e-02,\n",
              "         4.34734306e-02, -9.04828372e-03,  4.69521644e-02,\n",
              "         6.34600113e-03, -6.06151782e-02, -3.68606392e-02,\n",
              "         3.55687185e-02, -7.47777534e-02,  2.69954056e-02,\n",
              "         7.08991165e-03,  4.09847178e-02,  5.03993208e-02,\n",
              "        -1.89813524e-02, -9.56738461e-03,  5.03833195e-02,\n",
              "         6.37520608e-02,  2.27629927e-02,  1.87491614e-02,\n",
              "         2.92733581e-02,  6.33919138e-03, -1.32745651e-01,\n",
              "        -7.55102017e-02, -1.26912606e-02,  3.19885816e-02,\n",
              "         2.87144134e-03,  8.69459263e-03, -4.69411556e-02,\n",
              "        -1.07126461e-02,  1.88420558e-02, -1.29327555e-01,\n",
              "        -4.70012538e-02, -1.64960107e-02,  2.94656452e-02,\n",
              "        -1.94158119e-02,  4.23078115e-03,  2.47835421e-02,\n",
              "        -4.09805373e-02,  2.74380421e-02, -1.86933863e-02,\n",
              "        -1.10471969e-02,  4.97822297e-02,  1.42552083e-03,\n",
              "         1.15386636e-02,  6.16686729e-02, -4.73581254e-04,\n",
              "        -3.33653527e-02, -2.15585964e-04,  4.98272864e-02,\n",
              "        -7.86462252e-02, -1.03447420e-01, -6.69114655e-02,\n",
              "        -5.45655551e-02, -3.35408391e-02,  3.17174370e-02,\n",
              "        -2.43537565e-01,  2.42926522e-03, -6.58440838e-03,\n",
              "         4.71879180e-02, -2.26914558e-02,  5.72685562e-02,\n",
              "         3.14377621e-03,  2.98561690e-02, -4.31860195e-02,\n",
              "        -1.71702728e-02,  1.31969833e-03,  1.75670428e-02,\n",
              "         5.04187127e-02, -1.17683344e-01, -9.44134096e-02,\n",
              "         6.30925413e-02,  4.40485825e-02,  6.55282962e-02,\n",
              "         2.97900227e-02,  7.73144153e-02, -4.36010870e-02,\n",
              "         2.58502197e-02,  1.40654879e-02, -3.20277642e-02,\n",
              "         4.10079062e-02, -2.36078771e-02, -1.20965436e-01,\n",
              "         4.04050983e-02, -2.72815401e-02,  4.06365196e-03,\n",
              "        -2.31895832e-02, -2.87167801e-02,  7.80976526e-02,\n",
              "         4.97347241e-03,  5.27599094e-02,  6.87847453e-02,\n",
              "        -1.03371280e-02,  1.18612150e-02,  1.14144956e-02,\n",
              "        -6.00823425e-02, -5.25307183e-02, -2.98139546e-03,\n",
              "        -2.55974680e-02,  3.77234047e-02, -4.96122257e-02,\n",
              "        -1.95817339e-02, -2.25864203e-02, -2.43055763e-02,\n",
              "         8.56904723e-02,  1.57322881e-02, -2.86371894e-02,\n",
              "        -1.35702622e-01,  6.37404372e-03,  9.13790551e-02,\n",
              "         3.65700542e-02, -1.44449399e-02,  1.22735060e-02,\n",
              "        -1.04216052e-01, -2.83267920e-02, -6.52694429e-02,\n",
              "        -2.85107804e-02,  8.50315640e-03, -2.55595520e-02,\n",
              "        -3.60273396e-02,  7.87078260e-02,  1.83986254e-01,\n",
              "        -2.73305047e-02, -3.00968811e-02,  7.24740579e-02,\n",
              "         2.65824087e-02, -4.03093621e-02,  7.64332836e-02,\n",
              "        -6.37408738e-02, -3.34673302e-02, -2.76547546e-03,\n",
              "         1.66461020e-02, -1.55222545e-01,  1.27729190e-01,\n",
              "        -5.97034519e-02,  5.58962037e-02, -1.95809609e-03,\n",
              "        -4.30445749e-02, -3.17604815e-02, -5.82196695e-03,\n",
              "        -4.33041217e-02,  1.17131267e-02, -3.70751259e-02,\n",
              "         1.91771376e-02,  3.04296416e-02,  1.43573290e-02,\n",
              "        -3.08624979e-02,  5.15976408e-03,  2.21431442e-03,\n",
              "         7.49352326e-02,  5.81529588e-02,  1.09079791e-02,\n",
              "         9.07679511e-02,  2.42171352e-01,  5.25402228e-02,\n",
              "         1.06675203e-02,  8.25846723e-03, -1.37676460e-02,\n",
              "         2.15645383e-02, -2.40669440e-02, -3.10723339e-02,\n",
              "        -4.01158898e-02,  4.95377767e-02, -1.28982936e-02,\n",
              "        -3.89104653e-02,  3.86204322e-03, -3.23131184e-03,\n",
              "         1.73226545e-02,  1.86164714e-02, -2.99272652e-02,\n",
              "         1.76694461e-03, -9.57375703e-03, -8.40645904e-04,\n",
              "        -3.58043388e-02, -9.08644078e-02,  3.54194765e-02,\n",
              "        -6.37823114e-02,  1.07694523e-02, -1.12611360e-02,\n",
              "        -7.55499726e-02, -3.73210783e-02, -9.63739709e-02,\n",
              "        -2.36372380e-02,  1.34239125e-02, -2.63431234e-03,\n",
              "         1.51787822e-02, -1.45411538e-02,  5.73263758e-02,\n",
              "        -8.18715294e-02, -2.45048180e-02, -2.13003672e-02,\n",
              "        -1.18898383e-02, -2.97280687e-02,  2.03948019e-02,\n",
              "        -1.41057186e-03, -5.23940536e-03, -6.00193677e-02,\n",
              "        -1.08786104e-02,  6.05014067e-02,  4.53006333e-02,\n",
              "         1.52161370e-02,  1.13659598e-02, -1.58860385e-02,\n",
              "         9.20639249e-03,  2.36090501e-01,  1.03305493e-02,\n",
              "        -1.38538107e-02,  4.09036394e-03,  1.12387965e-01,\n",
              "        -9.45164853e-03, -2.83883893e-02,  1.34710614e-02,\n",
              "        -1.35927337e-02, -3.07101919e-02,  1.36655557e-01,\n",
              "        -1.21026115e-02,  1.89483700e-02,  3.45572463e-02,\n",
              "        -7.96357853e-03,  9.13811820e-02, -6.04901975e-03,\n",
              "        -6.96554085e-02, -1.60911869e-02,  3.48135761e-02,\n",
              "         3.68919801e-02, -4.08216268e-02, -4.50357601e-03,\n",
              "         5.06292755e-02,  1.32577978e-02,  1.03949072e-01,\n",
              "        -4.02968563e-02, -6.39326535e-02, -1.18416771e-02,\n",
              "        -3.18370884e-02, -2.89382354e-02,  9.63877141e-03,\n",
              "        -6.54603330e-02,  1.10754861e-02,  2.56736806e-02,\n",
              "         1.03082587e-01,  6.18555459e-02,  1.02611768e-02,\n",
              "         5.16376396e-03,  3.65995569e-02, -6.17247050e-02,\n",
              "         2.53363245e-02, -4.01907743e-02,  3.91331601e-02,\n",
              "        -4.05469276e-02,  2.65013809e-02, -1.77142288e-02,\n",
              "         3.79342933e-02,  4.91542493e-02, -2.06667865e-02,\n",
              "         5.45745250e-02,  3.74343510e-03,  1.63933653e-02,\n",
              "        -6.26474110e-02, -5.98924235e-04,  4.78297671e-02,\n",
              "        -1.39237327e-02,  5.94891635e-03,  5.17871181e-02,\n",
              "         2.76990064e-02, -8.66787471e-02, -1.41358082e-02,\n",
              "         1.09713183e-02,  1.32444769e-02, -4.49031281e-02,\n",
              "        -2.95970837e-02, -9.37041851e-02, -4.66344828e-02,\n",
              "         1.59661725e-01,  4.98420323e-02,  4.20007457e-02,\n",
              "         7.17365953e-02,  4.02297315e-02,  4.16137781e-02,\n",
              "        -5.62123340e-02,  3.56316278e-02,  4.04899567e-02,\n",
              "        -3.57859197e-02,  8.73307387e-02, -6.84397755e-02,\n",
              "        -2.46127260e-03, -1.59499676e-02, -2.89586068e-02,\n",
              "        -6.62792969e-02, -2.16759704e-02,  7.22425679e-03,\n",
              "         3.52192527e-02, -1.43501302e-01,  3.34452459e-02]])"
            ]
          },
          "metadata": {
            "tags": []
          },
          "execution_count": 33
        }
      ]
    },
    {
      "cell_type": "code",
      "metadata": {
        "id": "mxIY1yndYEve",
        "colab_type": "code",
        "colab": {}
      },
      "source": [
        ""
      ],
      "execution_count": 33,
      "outputs": []
    },
    {
      "cell_type": "code",
      "metadata": {
        "id": "FutIPMDAYEVX",
        "colab_type": "code",
        "colab": {}
      },
      "source": [
        ""
      ],
      "execution_count": 33,
      "outputs": []
    },
    {
      "cell_type": "code",
      "metadata": {
        "id": "8ppwjZaj7aCj",
        "colab_type": "code",
        "colab": {}
      },
      "source": [
        ""
      ],
      "execution_count": 33,
      "outputs": []
    },
    {
      "cell_type": "code",
      "metadata": {
        "id": "0SWPZgiu7Z5z",
        "colab_type": "code",
        "colab": {}
      },
      "source": [
        ""
      ],
      "execution_count": 33,
      "outputs": []
    },
    {
      "cell_type": "code",
      "metadata": {
        "id": "W1HkpY8EHg--",
        "colab_type": "code",
        "colab": {}
      },
      "source": [
        ""
      ],
      "execution_count": 33,
      "outputs": []
    },
    {
      "cell_type": "code",
      "metadata": {
        "id": "uLHu3cVVHhEA",
        "colab_type": "code",
        "colab": {}
      },
      "source": [
        ""
      ],
      "execution_count": 33,
      "outputs": []
    },
    {
      "cell_type": "code",
      "metadata": {
        "id": "DqQPTY01qOB6",
        "colab_type": "code",
        "colab": {}
      },
      "source": [
        ""
      ],
      "execution_count": 33,
      "outputs": []
    },
    {
      "cell_type": "code",
      "metadata": {
        "id": "spsrO4HoHhBv",
        "colab_type": "code",
        "colab": {}
      },
      "source": [
        ""
      ],
      "execution_count": 33,
      "outputs": []
    },
    {
      "cell_type": "code",
      "metadata": {
        "id": "KlcRJBJ7Sbzs",
        "colab_type": "code",
        "colab": {}
      },
      "source": [
        ""
      ],
      "execution_count": 33,
      "outputs": []
    }
  ]
}