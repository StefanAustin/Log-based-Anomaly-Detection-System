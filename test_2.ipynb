{
 "cells": [
  {
   "cell_type": "code",
   "execution_count": 1,
   "metadata": {},
   "outputs": [],
   "source": [
    "import numpy as np\n",
    "from keras.models import load_model\n",
    "from sklearn.metrics import precision_recall_fscore_support\n",
    "\n",
    "from Attention import Attention\n",
    "from utils import DataGenerator"
   ]
  },
  {
   "cell_type": "code",
   "execution_count": 2,
   "metadata": {},
   "outputs": [],
   "source": [
    "# load data\n",
    "testing_data = np.load('preprocessed_data_2/testing_data.npz', allow_pickle=True)\n",
    "x_test = testing_data['x_test']\n",
    "y_test = testing_data['y_test']\n",
    "del testing_data"
   ]
  },
  {
   "cell_type": "code",
   "execution_count": 3,
   "metadata": {},
   "outputs": [],
   "source": [
    "# load model\n",
    "model = load_model('my_model_2.h5', custom_objects={'Attention': Attention})"
   ]
  },
  {
   "cell_type": "code",
   "execution_count": 4,
   "metadata": {},
   "outputs": [
    {
     "name": "stdout",
     "output_type": "stream",
     "text": [
      "8798/8798 [==============================] - 352s 40ms/step\n"
     ]
    }
   ],
   "source": [
    "# test\n",
    "test_generator = DataGenerator(x_test, y_test, batch_size=64)\n",
    "y_pred = model.predict(test_generator, verbose=1)"
   ]
  },
  {
   "cell_type": "code",
   "execution_count": 5,
   "metadata": {},
   "outputs": [],
   "source": [
    "# calculate metrics\n",
    "y_true = np.argmax(y_test, axis=1)\n",
    "y_pred = np.argmax(y_pred, axis=1)\n",
    "report = precision_recall_fscore_support(y_true, y_pred, average='binary')"
   ]
  },
  {
   "cell_type": "code",
   "execution_count": 7,
   "metadata": {},
   "outputs": [
    {
     "name": "stdout",
     "output_type": "stream",
     "text": [
      "Number of testing data: 563061\n",
      "Precision: 0.96\n",
      "Recall: 1.00\n",
      "F1 score: 0.98\n"
     ]
    }
   ],
   "source": [
    "print(f'Number of testing data: {x_test.shape[0]}')\n",
    "print(f'Precision: {report[0]:.2f}')\n",
    "print(f'Recall: {report[1]:.2f}')\n",
    "print(f'F1 score: {report[2]:.2f}')"
   ]
  }
 ],
 "metadata": {
  "kernelspec": {
   "display_name": "Python (project)",
   "language": "python",
   "name": "project"
  },
  "language_info": {
   "codemirror_mode": {
    "name": "ipython",
    "version": 3
   },
   "file_extension": ".py",
   "mimetype": "text/x-python",
   "name": "python",
   "nbconvert_exporter": "python",
   "pygments_lexer": "ipython3",
   "version": "3.8.5"
  }
 },
 "nbformat": 4,
 "nbformat_minor": 4
}
