{
 "cells": [
  {
   "cell_type": "markdown",
   "metadata": {},
   "source": [
    "# Preprocessing"
   ]
  },
  {
   "cell_type": "code",
   "execution_count": 1,
   "metadata": {},
   "outputs": [],
   "source": [
    "import numpy as np\n",
    "from keras.preprocessing.sequence import pad_sequences\n",
    "from keras.models import load_model\n",
    "from tqdm.notebook import tqdm_notebook\n",
    "from sklearn.metrics import precision_recall_fscore_support\n",
    "\n",
    "from Attention import Attention"
   ]
  },
  {
   "cell_type": "code",
   "execution_count": 2,
   "metadata": {},
   "outputs": [],
   "source": [
    "# load data\n",
    "training_data = np.load(\n",
    "    'preprocessed_data/testing_data.npz', allow_pickle=True)\n",
    "x_test = training_data['x_test']\n",
    "y_test = training_data['y_test']"
   ]
  },
  {
   "cell_type": "code",
   "execution_count": 3,
   "metadata": {},
   "outputs": [
    {
     "data": {
      "application/vnd.jupyter.widget-view+json": {
       "model_id": "4ba4b6439e0546dba9863535c3cd67d7",
       "version_major": 2,
       "version_minor": 0
      },
      "text/plain": [
       "HBox(children=(FloatProgress(value=0.0, max=56306.0), HTML(value='')))"
      ]
     },
     "metadata": {},
     "output_type": "display_data"
    },
    {
     "name": "stdout",
     "output_type": "stream",
     "text": [
      "\n"
     ]
    }
   ],
   "source": [
    "# sampling testing data\n",
    "np.random.seed()\n",
    "randomList = np.arange(x_test.shape[0])\n",
    "np.random.shuffle(randomList)\n",
    "x_test, y_test = x_test[randomList], y_test[randomList]\n",
    "x_test = x_test[:int(x_test.shape[0] * 0.1)]\n",
    "y_test = y_test[:int(y_test.shape[0] * 0.1)]\n",
    "\n",
    "x_test = [i.tolist() for i in tqdm_notebook(x_test)]"
   ]
  },
  {
   "cell_type": "code",
   "execution_count": 4,
   "metadata": {},
   "outputs": [],
   "source": [
    "# padding\n",
    "x_test = pad_sequences(x_test, padding='post', dtype='float32')\n",
    "x_test = np.array(x_test)"
   ]
  },
  {
   "cell_type": "code",
   "execution_count": 5,
   "metadata": {},
   "outputs": [],
   "source": [
    "# load model\n",
    "model = load_model('my_model.h5', custom_objects={'Attention': Attention})"
   ]
  },
  {
   "cell_type": "markdown",
   "metadata": {},
   "source": [
    "# Testing"
   ]
  },
  {
   "cell_type": "code",
   "execution_count": 6,
   "metadata": {},
   "outputs": [
    {
     "name": "stdout",
     "output_type": "stream",
     "text": [
      "1760/1760 [==============================] - 13s 7ms/step\n"
     ]
    }
   ],
   "source": [
    "# test\n",
    "y_pred = model.predict(x_test, verbose=1)"
   ]
  },
  {
   "cell_type": "code",
   "execution_count": 7,
   "metadata": {},
   "outputs": [],
   "source": [
    "# calculate metrics\n",
    "y_test = np.argmax(y_test, axis=1)\n",
    "y_pred = np.argmax(y_pred, axis=1)\n",
    "report = precision_recall_fscore_support(y_test, y_pred, average='binary')"
   ]
  },
  {
   "cell_type": "code",
   "execution_count": 8,
   "metadata": {},
   "outputs": [
    {
     "name": "stdout",
     "output_type": "stream",
     "text": [
      "Number of testing data: 56306\n",
      "Precision: 0.9410\n",
      "Recall: 0.9991\n",
      "F1 score: 0.9692\n"
     ]
    }
   ],
   "source": [
    "print(f'Number of testing data: {x_test.shape[0]}')\n",
    "print(f'Precision: {report[0]:.4f}')\n",
    "print(f'Recall: {report[1]:.4f}')\n",
    "print(f'F1 score: {report[2]:.4f}')"
   ]
  }
 ],
 "metadata": {
  "kernelspec": {
   "display_name": "Python (project)",
   "language": "python",
   "name": "project"
  },
  "language_info": {
   "codemirror_mode": {
    "name": "ipython",
    "version": 3
   },
   "file_extension": ".py",
   "mimetype": "text/x-python",
   "name": "python",
   "nbconvert_exporter": "python",
   "pygments_lexer": "ipython3",
   "version": "3.8.5"
  }
 },
 "nbformat": 4,
 "nbformat_minor": 4
}
